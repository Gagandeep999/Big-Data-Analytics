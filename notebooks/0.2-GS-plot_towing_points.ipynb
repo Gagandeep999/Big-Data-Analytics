{
 "cells": [
  {
   "cell_type": "code",
   "execution_count": 14,
   "id": "statutory-institution",
   "metadata": {},
   "outputs": [
    {
     "ename": "ModuleNotFoundError",
     "evalue": "No module named 'mpl_toolkits.basemap'",
     "output_type": "error",
     "traceback": [
      "\u001b[0;31m---------------------------------------------------------------------------\u001b[0m",
      "\u001b[0;31mModuleNotFoundError\u001b[0m                       Traceback (most recent call last)",
      "\u001b[0;32m<ipython-input-14-a6c265a2b48b>\u001b[0m in \u001b[0;36m<module>\u001b[0;34m\u001b[0m\n\u001b[1;32m      8\u001b[0m \u001b[0;32mimport\u001b[0m \u001b[0mmath\u001b[0m\u001b[0;34m\u001b[0m\u001b[0;34m\u001b[0m\u001b[0m\n\u001b[1;32m      9\u001b[0m \u001b[0;32mfrom\u001b[0m \u001b[0mmath\u001b[0m \u001b[0;32mimport\u001b[0m \u001b[0msin\u001b[0m\u001b[0;34m,\u001b[0m \u001b[0mcos\u001b[0m\u001b[0;34m,\u001b[0m \u001b[0msqrt\u001b[0m\u001b[0;34m,\u001b[0m \u001b[0matan2\u001b[0m\u001b[0;34m,\u001b[0m \u001b[0mradians\u001b[0m\u001b[0;34m\u001b[0m\u001b[0;34m\u001b[0m\u001b[0m\n\u001b[0;32m---> 10\u001b[0;31m \u001b[0;32mfrom\u001b[0m \u001b[0mmpl_toolkits\u001b[0m\u001b[0;34m.\u001b[0m\u001b[0mbasemap\u001b[0m \u001b[0;32mimport\u001b[0m \u001b[0mBasemap\u001b[0m\u001b[0;34m\u001b[0m\u001b[0;34m\u001b[0m\u001b[0m\n\u001b[0m\u001b[1;32m     11\u001b[0m \u001b[0;31m# import matplotlib.pyplot as plt\u001b[0m\u001b[0;34m\u001b[0m\u001b[0;34m\u001b[0m\u001b[0;34m\u001b[0m\u001b[0m\n",
      "\u001b[0;31mModuleNotFoundError\u001b[0m: No module named 'mpl_toolkits.basemap'"
     ]
    }
   ],
   "source": [
    "import os\n",
    "import sys\n",
    "import pandas as pd\n",
    "import geopandas as gpd\n",
    "import numpy as np\n",
    "import matplotlib.pyplot as plt\n",
    "from sklearn.neighbors import DistanceMetric\n",
    "import math\n",
    "from math import sin, cos, sqrt, atan2, radians\n",
    "from mpl_toolkits.basemap import Basemap\n",
    "# import matplotlib.pyplot as plt"
   ]
  },
  {
   "cell_type": "code",
   "execution_count": 2,
   "id": "optical-population",
   "metadata": {},
   "outputs": [
    {
     "data": {
      "text/plain": [
       "'/Users/Gagandeep/Desktop/Concordia/12 Winter 2021/SOEN 471/NoToW/data/raw'"
      ]
     },
     "execution_count": 2,
     "metadata": {},
     "output_type": "execute_result"
    }
   ],
   "source": [
    "head, tail = os.path.split(os.getcwd())\n",
    "data_dir = os.path.join(head, 'data')\n",
    "data_raw_dir = os.path.join(data_dir, 'raw')\n",
    "data_raw_dir"
   ]
  },
  {
   "cell_type": "code",
   "execution_count": 3,
   "id": "spanish-terrain",
   "metadata": {},
   "outputs": [
    {
     "data": {
      "text/html": [
       "<div>\n",
       "<style scoped>\n",
       "    .dataframe tbody tr th:only-of-type {\n",
       "        vertical-align: middle;\n",
       "    }\n",
       "\n",
       "    .dataframe tbody tr th {\n",
       "        vertical-align: top;\n",
       "    }\n",
       "\n",
       "    .dataframe thead th {\n",
       "        text-align: right;\n",
       "    }\n",
       "</style>\n",
       "<table border=\"1\" class=\"dataframe\">\n",
       "  <thead>\n",
       "    <tr style=\"text-align: right;\">\n",
       "      <th></th>\n",
       "      <th>DATE_ORIGINE</th>\n",
       "      <th>LONGITUDE_ORIGINE</th>\n",
       "      <th>LATITUDE_ORIGINE</th>\n",
       "      <th>RUE_ORIGINE</th>\n",
       "      <th>SECTEUR_ORIGINE</th>\n",
       "      <th>ARRONDISSEMENT_ORIGINE</th>\n",
       "      <th>DATE_DESTINATION</th>\n",
       "      <th>LONGITUDE_DESTINATION</th>\n",
       "      <th>LATITUDE_DESTINATION</th>\n",
       "      <th>RUE_DESTINATION</th>\n",
       "      <th>SECTEUR_DESTINATION</th>\n",
       "      <th>ARRONDISSEMENT_DESTINATION</th>\n",
       "      <th>MOTIF_REMORQUAGE</th>\n",
       "    </tr>\n",
       "  </thead>\n",
       "  <tbody>\n",
       "    <tr>\n",
       "      <th>0</th>\n",
       "      <td>2015-12-31T00:23:00</td>\n",
       "      <td>-73.587203</td>\n",
       "      <td>45.524981</td>\n",
       "      <td>rue Drolet</td>\n",
       "      <td>NaN</td>\n",
       "      <td>Plateau-Mont-Royal</td>\n",
       "      <td>2015-12-31T00:25:00</td>\n",
       "      <td>-73.586791</td>\n",
       "      <td>45.525131</td>\n",
       "      <td>rue de Grand-Pré</td>\n",
       "      <td>NaN</td>\n",
       "      <td>Plateau-Mont-Royal</td>\n",
       "      <td>Constat d'infraction</td>\n",
       "    </tr>\n",
       "    <tr>\n",
       "      <th>1</th>\n",
       "      <td>2015-12-31T00:24:00</td>\n",
       "      <td>-73.622256</td>\n",
       "      <td>45.585753</td>\n",
       "      <td>boulevard des Grandes-Prairies</td>\n",
       "      <td>NaN</td>\n",
       "      <td>Saint-Léonard</td>\n",
       "      <td>2015-12-31T00:30:00</td>\n",
       "      <td>-73.621005</td>\n",
       "      <td>45.586975</td>\n",
       "      <td>boulevard des Grandes-Prairies</td>\n",
       "      <td>NaN</td>\n",
       "      <td>Saint-Léonard</td>\n",
       "      <td>Constat d'infraction</td>\n",
       "    </tr>\n",
       "    <tr>\n",
       "      <th>2</th>\n",
       "      <td>2015-12-31T00:25:00</td>\n",
       "      <td>-73.600692</td>\n",
       "      <td>45.535027</td>\n",
       "      <td>rue Saint-Hubert</td>\n",
       "      <td>NaN</td>\n",
       "      <td>Rosemont - La Petite-Patrie</td>\n",
       "      <td>2015-12-31T00:32:00</td>\n",
       "      <td>-73.600881</td>\n",
       "      <td>45.535163</td>\n",
       "      <td>rue Saint-Hubert</td>\n",
       "      <td>NaN</td>\n",
       "      <td>Rosemont - La Petite-Patrie</td>\n",
       "      <td>Constat d'infraction</td>\n",
       "    </tr>\n",
       "    <tr>\n",
       "      <th>3</th>\n",
       "      <td>2015-12-31T00:25:00</td>\n",
       "      <td>-73.620824</td>\n",
       "      <td>45.516675</td>\n",
       "      <td>avenue Ducharme</td>\n",
       "      <td>NaN</td>\n",
       "      <td>Outremont</td>\n",
       "      <td>2015-12-31T00:28:00</td>\n",
       "      <td>-73.621995</td>\n",
       "      <td>45.518764</td>\n",
       "      <td>avenue Rockland</td>\n",
       "      <td>NaN</td>\n",
       "      <td>Outremont</td>\n",
       "      <td>Constat d'infraction</td>\n",
       "    </tr>\n",
       "    <tr>\n",
       "      <th>4</th>\n",
       "      <td>2015-12-31T00:27:00</td>\n",
       "      <td>-73.580197</td>\n",
       "      <td>45.494309</td>\n",
       "      <td>rue Saint-Mathieu</td>\n",
       "      <td>NaN</td>\n",
       "      <td>Ville-Marie</td>\n",
       "      <td>2015-12-31T00:39:00</td>\n",
       "      <td>-73.579972</td>\n",
       "      <td>45.493133</td>\n",
       "      <td>rue Sainte-Catherine Ouest</td>\n",
       "      <td>NaN</td>\n",
       "      <td>Ville-Marie</td>\n",
       "      <td>Constat d'infraction</td>\n",
       "    </tr>\n",
       "  </tbody>\n",
       "</table>\n",
       "</div>"
      ],
      "text/plain": [
       "          DATE_ORIGINE  LONGITUDE_ORIGINE  LATITUDE_ORIGINE  \\\n",
       "0  2015-12-31T00:23:00         -73.587203         45.524981   \n",
       "1  2015-12-31T00:24:00         -73.622256         45.585753   \n",
       "2  2015-12-31T00:25:00         -73.600692         45.535027   \n",
       "3  2015-12-31T00:25:00         -73.620824         45.516675   \n",
       "4  2015-12-31T00:27:00         -73.580197         45.494309   \n",
       "\n",
       "                       RUE_ORIGINE  SECTEUR_ORIGINE  \\\n",
       "0                      rue Drolet               NaN   \n",
       "1  boulevard des Grandes-Prairies               NaN   \n",
       "2                rue Saint-Hubert               NaN   \n",
       "3                 avenue Ducharme               NaN   \n",
       "4               rue Saint-Mathieu               NaN   \n",
       "\n",
       "        ARRONDISSEMENT_ORIGINE     DATE_DESTINATION  LONGITUDE_DESTINATION  \\\n",
       "0           Plateau-Mont-Royal  2015-12-31T00:25:00             -73.586791   \n",
       "1                Saint-Léonard  2015-12-31T00:30:00             -73.621005   \n",
       "2  Rosemont - La Petite-Patrie  2015-12-31T00:32:00             -73.600881   \n",
       "3                    Outremont  2015-12-31T00:28:00             -73.621995   \n",
       "4                  Ville-Marie  2015-12-31T00:39:00             -73.579972   \n",
       "\n",
       "   LATITUDE_DESTINATION                  RUE_DESTINATION  SECTEUR_DESTINATION  \\\n",
       "0             45.525131                rue de Grand-Pré                   NaN   \n",
       "1             45.586975  boulevard des Grandes-Prairies                   NaN   \n",
       "2             45.535163                rue Saint-Hubert                   NaN   \n",
       "3             45.518764                 avenue Rockland                   NaN   \n",
       "4             45.493133      rue Sainte-Catherine Ouest                   NaN   \n",
       "\n",
       "    ARRONDISSEMENT_DESTINATION      MOTIF_REMORQUAGE  \n",
       "0           Plateau-Mont-Royal  Constat d'infraction  \n",
       "1                Saint-Léonard  Constat d'infraction  \n",
       "2  Rosemont - La Petite-Patrie  Constat d'infraction  \n",
       "3                    Outremont  Constat d'infraction  \n",
       "4                  Ville-Marie  Constat d'infraction  "
      ]
     },
     "execution_count": 3,
     "metadata": {},
     "output_type": "execute_result"
    }
   ],
   "source": [
    "df_remor = pd.read_csv(os.path.join(data_raw_dir, 'remorquages.csv'), header=0)\n",
    "df_remor.head()"
   ]
  },
  {
   "cell_type": "code",
   "execution_count": 8,
   "id": "improved-tourist",
   "metadata": {},
   "outputs": [
    {
     "data": {
      "image/png": "[encoded data removed]",
      "text/plain": [
       "<Figure size 432x288 with 1 Axes>"
      ]
     },
     "metadata": {
      "needs_background": "light"
     },
     "output_type": "display_data"
    }
   ],
   "source": [
    "plt.scatter(x=df_remor['LONGITUDE_ORIGINE'], y=df_remor['LATITUDE_ORIGINE'])\n",
    "plt.show()"
   ]
  },
  {
   "cell_type": "code",
   "execution_count": null,
   "id": "eligible-blues",
   "metadata": {},
   "outputs": [],
   "source": [
    "\n",
    "# setup Lambert Conformal basemap.\n",
    "m = Basemap(width=12000000,height=9000000,projection='lcc',\n",
    "            resolution='c',lat_1=45.,lat_2=55,lat_0=50,lon_0=-107.)\n",
    "# draw coastlines.\n",
    "m.drawcoastlines()\n",
    "# draw a boundary around the map, fill the background.\n",
    "# this background will end up being the ocean color, since\n",
    "# the continents will be drawn on top.\n",
    "m.drawmapboundary(fill_color='aqua') \n",
    "# fill continents, set lake color same as ocean color. \n",
    "m.fillcontinents(color='coral',lake_color='aqua')\n",
    "plt.show()\n"
   ]
  }
 ],
 "metadata": {
  "kernelspec": {
   "display_name": "Python 3",
   "language": "python",
   "name": "python3"
  },
  "language_info": {
   "codemirror_mode": {
    "name": "ipython",
    "version": 3
   },
   "file_extension": ".py",
   "mimetype": "text/x-python",
   "name": "python",
   "nbconvert_exporter": "python",
   "pygments_lexer": "ipython3",
   "version": "3.6.12"
  }
 },
 "nbformat": 4,
 "nbformat_minor": 5
}
