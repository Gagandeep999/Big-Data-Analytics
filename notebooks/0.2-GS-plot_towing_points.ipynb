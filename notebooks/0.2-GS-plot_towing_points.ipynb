{
 "cells": [
  {
   "cell_type": "code",
   "execution_count": null,
   "id": "statutory-institution",
   "metadata": {},
   "outputs": [],
   "source": [
    "import os\n",
    "import sys\n",
    "import datetime\n",
    "import pandas as pd\n",
    "import geopandas as gpd\n",
    "import numpy as np\n",
    "import matplotlib.pyplot as plt\n",
    "from sklearn.neighbors import DistanceMetric\n",
    "import math\n",
    "from math import sin, cos, sqrt, atan2, radians"
   ]
  },
  {
   "cell_type": "code",
   "execution_count": null,
   "id": "optical-population",
   "metadata": {},
   "outputs": [],
   "source": [
    "head, tail = os.path.split(os.getcwd())\n",
    "data_dir = os.path.join(head, 'data')\n",
    "data_raw_dir = os.path.join(data_dir, 'raw')\n",
    "data_raw_dir"
   ]
  },
  {
   "cell_type": "code",
   "execution_count": null,
   "id": "spanish-terrain",
   "metadata": {},
   "outputs": [],
   "source": [
    "df_remor = pd.read_csv(os.path.join(data_raw_dir, 'remorquages.csv'), header=0)\n",
    "df_remor.head()"
   ]
  },
  {
   "cell_type": "code",
   "execution_count": null,
   "metadata": {},
   "outputs": [],
   "source": [
    "towings = gpd.GeoDataFrame(df_2015, geometry=gpd.points_from_xy(df_remor.LONGITUDE_ORIGINE, df_remor.LATITUDE_ORIGINE))\n",
    "towings.head()"
   ]
  },
  {
   "cell_type": "code",
   "execution_count": null,
   "metadata": {},
   "outputs": [],
   "source": [
    "fig, ax = plt.subplots(1, figsize=(15, 15))\n",
    "boroughs = gpd.read_file(os.path.join(data_raw_dir, 'montreal_boroughs.json'))\n",
    "boroughs.plot(ax=ax)\n",
    "df_2015.plot(ax=ax, marker='o', color='r', alpha=0.5)\n",
    "plt.show()"
   ]
  },
  {
   "cell_type": "code",
   "execution_count": null,
   "metadata": {},
   "outputs": [],
   "source": [
    "df_remor = pd.read_csv(os.path.join(data_raw_dir, 'remorquages.csv'), header=0)\n",
    "df_remor['DATE_ORIGINE'] = pd.to_datetime(df_remor['DATE_ORIGINE'])\n",
    "boroughs = gpd.read_file(os.path.join(data_raw_dir, 'montreal_boroughs.json'))\n",
    "df_remor_per_year = df_remor[df_remor['DATE_ORIGINE'].dt.strftime('%Y') == str(2015)]\n",
    "towings = gpd.GeoDataFrame(df_remor_per_year, geometry=gpd.points_from_xy(df_remor_per_year.LONGITUDE_ORIGINE, df_remor_per_year.LATITUDE_ORIGINE))\n",
    "fig, ax = plt.subplots(1, figsize=(15, 15))\n",
    "boroughs.plot(ax=ax)\n",
    "towings.plot(ax=ax, marker='o', color='r', alpha=0.3)\n",
    "plt.savefig('2015.png')"
   ]
  },
  {
   "cell_type": "code",
   "execution_count": null,
   "metadata": {},
   "outputs": [],
   "source": []
  }
 ],
 "metadata": {
  "kernelspec": {
   "name": "python3",
   "display_name": "Python 3.6.12 64-bit",
   "metadata": {
    "interpreter": {
     "hash": "393438f6c0bca4a2b0b9b28a96f5952f2521bd7399947aa24a0a5b669f83e1d6"
    }
   }
  },
  "language_info": {
   "codemirror_mode": {
    "name": "ipython",
    "version": 3
   },
   "file_extension": ".py",
   "mimetype": "text/x-python",
   "name": "python",
   "nbconvert_exporter": "python",
   "pygments_lexer": "ipython3",
   "version": "3.6.12-final"
  }
 },
 "nbformat": 4,
 "nbformat_minor": 5
}