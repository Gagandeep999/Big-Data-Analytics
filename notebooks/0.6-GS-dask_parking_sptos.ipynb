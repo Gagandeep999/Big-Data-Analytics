{
 "cells": [
  {
   "cell_type": "code",
   "execution_count": 4,
   "metadata": {
    "pycharm": {
     "name": "#%%\n"
    },
    "tags": []
   },
   "outputs": [],
   "source": [
    "import os\n",
    "from dask import persist\n",
    "import dask.dataframe as df\n",
    "from operator import add\n",
    "from dask.distributed import Client\n",
    "import matplotlib.pyplot as plt\n",
    "from functools import reduce\n",
    "\n",
    "head, tail = os.path.split(os.getcwd())\n",
    "data_dir = os.path.join(head, 'data')\n",
    "data_raw_dir = os.path.join(data_dir, 'raw')"
   ]
  },
  {
   "cell_type": "code",
   "execution_count": 5,
   "metadata": {},
   "outputs": [
    {
     "data": {
      "text/html": [
       "<table style=\"border: 2px solid white;\">\n",
       "<tr>\n",
       "<td style=\"vertical-align: top; border: 0px solid white\">\n",
       "<h3 style=\"text-align: left;\">Client</h3>\n",
       "<ul style=\"text-align: left; list-style: none; margin: 0; padding: 0;\">\n",
       "  <li><b>Scheduler: </b>tcp://127.0.0.1:58293</li>\n",
       "  <li><b>Dashboard: </b><a href='http://127.0.0.1:8787/status' target='_blank'>http://127.0.0.1:8787/status</a></li>\n",
       "</ul>\n",
       "</td>\n",
       "<td style=\"vertical-align: top; border: 0px solid white\">\n",
       "<h3 style=\"text-align: left;\">Cluster</h3>\n",
       "<ul style=\"text-align: left; list-style:none; margin: 0; padding: 0;\">\n",
       "  <li><b>Workers: </b>4</li>\n",
       "  <li><b>Cores: </b>8</li>\n",
       "  <li><b>Memory: </b>17.18 GB</li>\n",
       "</ul>\n",
       "</td>\n",
       "</tr>\n",
       "</table>"
      ],
      "text/plain": [
       "<Client: 'tcp://127.0.0.1:58293' processes=4 threads=8, memory=17.18 GB>"
      ]
     },
     "execution_count": 5,
     "metadata": {},
     "output_type": "execute_result"
    }
   ],
   "source": [
    "from dask.distributed import Client\n",
    "\n",
    "client = Client(\"tcp://127.0.0.1:58293\")\n",
    "client"
   ]
  },
  {
   "cell_type": "code",
   "execution_count": 6,
   "metadata": {},
   "outputs": [],
   "source": [
    "def assignCentroid(row, centroids):\n",
    "    c = reduce((lambda a,b: a if a[1]<b[1] else b),[(centroids.name,(row.nLongitude-centroids.nLongitude)**2 + (row.nLatitude-centroids.nLatitude)**2) for centroids in centroids.itertuples()]) \n",
    "    return  c[0]"
   ]
  },
  {
   "cell_type": "markdown",
   "metadata": {},
   "source": [
    "# Loading data"
   ]
  },
  {
   "cell_type": "code",
   "execution_count": 7,
   "metadata": {
    "collapsed": false,
    "jupyter": {
     "outputs_hidden": false
    },
    "pycharm": {
     "name": "#%%\n"
    }
   },
   "outputs": [],
   "source": [
    "park_spot_data = df.read_csv(os.path.join(data_raw_dir, 'Places.csv'), \n",
    "                             encoding='cp1252', blocksize='512KiB')[['sNoPlace','nLongitude','nLatitude']]\n",
    "\n",
    "list_of_borough =['Plateau-Mont-Royal',\n",
    "                  'Saint-Léonard',\n",
    "                  'Rosemont - La Petite-Patrie',\n",
    "                  'Outremont',\n",
    "                  'Ville-Marie',\n",
    "                  'Mercier - Hochelaga-Maisonneuve',\n",
    "                  'LaSalle',\n",
    "                  'Villeray - Saint-Michel - Parc-Extension',\n",
    "                  'Rivière-des-Prairies - Pointe-aux-Trembles',\n",
    "                  'Côte-des-Neiges - Notre-Dame-de-Grâce',\n",
    "                  'Lachine',\n",
    "                  'Saint-Laurent',\n",
    "                  'Ahuntsic - Cartierville',\n",
    "                  'Sud-Ouest',\n",
    "                  'Anjou',\n",
    "                  'Montréal-Nord',\n",
    "                  'Verdun',\n",
    "                  'Pierrefonds - Roxboro']\n"
   ]
  },
  {
   "cell_type": "markdown",
   "metadata": {},
   "source": [
    "# Initializing centroids randomly"
   ]
  },
  {
   "cell_type": "code",
   "execution_count": 8,
   "metadata": {},
   "outputs": [],
   "source": [
    "init_centroids = park_spot_data.sample(frac=0.002).head(len(list_of_borough),npartitions=-1)"
   ]
  },
  {
   "cell_type": "code",
   "execution_count": 9,
   "metadata": {},
   "outputs": [],
   "source": [
    "centroids = init_centroids.reset_index(drop=True).rename(columns={'sNoPlace':'name'})"
   ]
  },
  {
   "cell_type": "code",
   "execution_count": 10,
   "metadata": {},
   "outputs": [],
   "source": [
    "park_spot_data['centroids']=''\n",
    "epoch=0"
   ]
  },
  {
   "cell_type": "markdown",
   "metadata": {},
   "source": [
    "# Fitting loop"
   ]
  },
  {
   "cell_type": "code",
   "execution_count": 11,
   "metadata": {},
   "outputs": [
    {
     "name": "stdout",
     "output_type": "stream",
     "text": [
      "Epoch  1 : 18652\n",
      "Epoch  2 : 4986\n",
      "Epoch  3 : 2455\n",
      "Epoch  4 : 2019\n",
      "Epoch  5 : 1253\n",
      "Epoch  6 : 893\n",
      "Epoch  7 : 789\n",
      "Epoch  8 : 852\n",
      "Epoch  9 : 809\n",
      "Epoch  10 : 970\n",
      "Epoch  11 : 882\n",
      "Epoch  12 : 808\n",
      "Epoch  13 : 888\n",
      "Epoch  14 : 799\n",
      "Epoch  15 : 838\n",
      "Epoch  16 : 577\n",
      "Epoch  17 : 415\n",
      "Epoch  18 : 281\n",
      "Epoch  19 : 232\n",
      "Epoch  20 : 191\n",
      "Epoch  21 : 144\n",
      "Epoch  22 : 124\n",
      "Epoch  23 : 91\n",
      "Epoch  24 : 70\n",
      "Epoch  25 : 46\n",
      "Epoch  26 : 47\n",
      "Epoch  27 : 28\n",
      "Epoch  28 : 24\n",
      "Epoch  29 : 23\n",
      "Epoch  30 : 20\n",
      "Epoch  31 : 11\n",
      "Epoch  32 : 12\n",
      "Epoch  33 : 9\n",
      "Epoch  34 : 12\n",
      "Epoch  35 : 10\n",
      "Epoch  36 : 7\n",
      "Epoch  37 : 9\n",
      "Epoch  38 : 5\n",
      "Epoch  39 : 1\n",
      "Epoch  40 : 3\n",
      "Epoch  41 : 7\n",
      "Epoch  42 : 5\n",
      "Epoch  43 : 9\n",
      "Epoch  44 : 8\n",
      "Epoch  45 : 12\n",
      "Epoch  46 : 3\n",
      "Epoch  47 : 2\n",
      "Epoch  48 : 2\n",
      "Epoch  49 : 1\n",
      "Epoch  50 : 0\n"
     ]
    }
   ],
   "source": [
    "while True:\n",
    "    epoch+=1\n",
    "    park_spot_data['new_centroids'] = park_spot_data.apply(assignCentroid, axis=1, args=(centroids,), meta=('centroid', 'f8'))\n",
    "    park_spot_data = park_spot_data.persist()\n",
    "    spot_changed_number =len(park_spot_data[park_spot_data['centroids']!=park_spot_data['new_centroids']])\n",
    "    print('Epoch ',epoch,':',spot_changed_number)\n",
    "    if spot_changed_number==0:\n",
    "        break\n",
    "    centroids = park_spot_data[['nLongitude','nLatitude','new_centroids']].groupby('new_centroids').mean().reset_index().rename(columns={'new_centroids':'name'})\n",
    "    centroids = centroids.persist()\n",
    "    park_spot_data['centroids']=park_spot_data['new_centroids']\n",
    "    "
   ]
  },
  {
   "cell_type": "markdown",
   "metadata": {},
   "source": [
    "# Plotting the result"
   ]
  },
  {
   "cell_type": "code",
   "execution_count": 19,
   "metadata": {},
   "outputs": [
    {
     "data": {
      "image/png": "[encoded data removed]",
      "text/plain": [
       "<Figure size 432x288 with 1 Axes>"
      ]
     },
     "metadata": {
      "needs_background": "light"
     },
     "output_type": "display_data"
    }
   ],
   "source": [
    "groups = df.groupby('centroids')\n",
    "\n",
    "for name, group in groups:\n",
    "    plt.plot(group.nLongitude, group.nLatitude, marker='.', linestyle='',  label=name)\n"
   ]
  },
  {
   "cell_type": "code",
   "execution_count": null,
   "metadata": {},
   "outputs": [],
   "source": []
  }
 ],
 "metadata": {
  "kernelspec": {
   "display_name": "Python 3",
   "language": "python",
   "name": "python3"
  },
  "language_info": {
   "codemirror_mode": {
    "name": "ipython",
    "version": 3
   },
   "file_extension": ".py",
   "mimetype": "text/x-python",
   "name": "python",
   "nbconvert_exporter": "python",
   "pygments_lexer": "ipython3",
   "version": "3.6.10"
  }
 },
 "nbformat": 4,
 "nbformat_minor": 4
}
