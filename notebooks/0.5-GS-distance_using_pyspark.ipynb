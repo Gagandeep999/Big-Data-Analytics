{
 "metadata": {
  "language_info": {
   "codemirror_mode": {
    "name": "ipython",
    "version": 3
   },
   "file_extension": ".py",
   "mimetype": "text/x-python",
   "name": "python",
   "nbconvert_exporter": "python",
   "pygments_lexer": "ipython3",
   "version": "3.6.12-final"
  },
  "orig_nbformat": 2,
  "kernelspec": {
   "name": "python3",
   "display_name": "Python 3.6.12 64-bit ('bigdata': conda)",
   "metadata": {
    "interpreter": {
     "hash": "393438f6c0bca4a2b0b9b28a96f5952f2521bd7399947aa24a0a5b669f83e1d6"
    }
   }
  }
 },
 "nbformat": 4,
 "nbformat_minor": 2,
 "cells": [
  {
   "cell_type": "code",
   "execution_count": 1,
   "metadata": {},
   "outputs": [],
   "source": [
    "import os\n",
    "import sys\n",
    "import datetime\n",
    "import pandas as pd\n",
    "import numpy as np\n",
    "import matplotlib.pyplot as plt\n",
    "from pyspark.sql import functions as F\n",
    "from sklearn.neighbors import DistanceMetric"
   ]
  },
  {
   "cell_type": "code",
   "execution_count": 2,
   "metadata": {},
   "outputs": [
    {
     "output_type": "execute_result",
     "data": {
      "text/plain": [
       "'/Users/Gagandeep/Desktop/Concordia/12 Winter 2021/SOEN 471/NoToW/data/raw'"
      ]
     },
     "metadata": {},
     "execution_count": 2
    }
   ],
   "source": [
    "head, tail = os.path.split(os.getcwd())\n",
    "data_dir = os.path.join(head, 'data')\n",
    "data_raw_dir = os.path.join(data_dir, 'raw')\n",
    "data_raw_dir"
   ]
  },
  {
   "cell_type": "code",
   "execution_count": 3,
   "metadata": {},
   "outputs": [],
   "source": [
    "# os.listdir(data_raw_dir)"
   ]
  },
  {
   "cell_type": "code",
   "execution_count": 4,
   "metadata": {},
   "outputs": [],
   "source": [
    "# df_remor = pd.read_csv(os.path.join(data_raw_dir, 'remorquages.csv'), header=0)\n",
    "# df_remor.head()"
   ]
  },
  {
   "cell_type": "code",
   "execution_count": 5,
   "metadata": {},
   "outputs": [],
   "source": [
    "# df_avg_drop_dist = df_remor[['LONGITUDE_ORIGINE', 'LATITUDE_ORIGINE', 'LONGITUDE_DESTINATION', 'LATITUDE_DESTINATION']]\n",
    "# df_avg_drop_dist\n",
    "# R = 6373.0\n",
    "\n",
    "# lat1 = np.radians(df_avg_drop_dist['LATITUDE_ORIGINE'])\n",
    "# lon1 = np.radians(df_avg_drop_dist['LONGITUDE_ORIGINE'])\n",
    "# lat2 = np.radians(df_avg_drop_dist['LATITUDE_DESTINATION'])\n",
    "# lon2 = np.radians(df_avg_drop_dist['LONGITUDE_DESTINATION'])\n",
    "\n",
    "# dlon = lon2 - lon1\n",
    "# dlat = lat2 - lat1\n",
    "# # print(dlon, dlat)\n",
    "# a = np.sin(dlat / 2)**2 + np.cos(lat1) * np.cos(lat2) * np.sin(dlon / 2)**2\n",
    "# # print(type(a))\n",
    "# c = 2 * np.arctan2(np.sqrt(a), np.sqrt(1 - a))\n",
    "# # print(c)\n",
    "# distance = R * c\n",
    "# # print(type(distance))\n",
    "# df_avg_drop_dist.loc[:, 'avg_dist'] = distance"
   ]
  },
  {
   "source": [
    "# PYSPARK"
   ],
   "cell_type": "markdown",
   "metadata": {}
  },
  {
   "cell_type": "code",
   "execution_count": 6,
   "metadata": {},
   "outputs": [],
   "source": [
    "from pyspark.rdd import RDD\n",
    "from pyspark.sql import DataFrame\n",
    "from pyspark.sql import SparkSession\n",
    "from pyspark.sql.functions import desc\n",
    "from pyspark.sql import functions as F"
   ]
  },
  {
   "cell_type": "code",
   "execution_count": 7,
   "metadata": {},
   "outputs": [],
   "source": [
    "def init_spark():\n",
    "    spark = SparkSession \\\n",
    "        .builder \\\n",
    "        .appName(\"Python Spark SQL basic example\") \\\n",
    "        .config(\"spark.some.config.option\", \"some-value\") \\\n",
    "        .getOrCreate()\n",
    "    return spark"
   ]
  },
  {
   "cell_type": "code",
   "execution_count": 8,
   "metadata": {},
   "outputs": [
    {
     "output_type": "execute_result",
     "data": {
      "text/plain": [
       "[Row(DATE_ORIGINE='2015-12-31T00:23:00', LONGITUDE_ORIGINE='-73.5872033592732', LATITUDE_ORIGINE='45.524980545696', RUE_ORIGINE='rue Drolet ', SECTEUR_ORIGINE=None, ARRONDISSEMENT_ORIGINE='Plateau-Mont-Royal', DATE_DESTINATION='2015-12-31T00:25:00', LONGITUDE_DESTINATION='-73.58679102366419', LATITUDE_DESTINATION='45.525130766625004', RUE_DESTINATION='rue de Grand-Pré ', SECTEUR_DESTINATION=None, ARRONDISSEMENT_DESTINATION='Plateau-Mont-Royal', MOTIF_REMORQUAGE=\"Constat d'infraction\"),\n",
       " Row(DATE_ORIGINE='2015-12-31T00:24:00', LONGITUDE_ORIGINE='-73.6222559028091', LATITUDE_ORIGINE='45.585753168523894', RUE_ORIGINE='boulevard des Grandes-Prairies ', SECTEUR_ORIGINE=None, ARRONDISSEMENT_ORIGINE='Saint-Léonard', DATE_DESTINATION='2015-12-31T00:30:00', LONGITUDE_DESTINATION='-73.62100454287709', LATITUDE_DESTINATION='45.586974867512104', RUE_DESTINATION='boulevard des Grandes-Prairies ', SECTEUR_DESTINATION=None, ARRONDISSEMENT_DESTINATION='Saint-Léonard', MOTIF_REMORQUAGE=\"Constat d'infraction\")]"
      ]
     },
     "metadata": {},
     "execution_count": 8
    }
   ],
   "source": [
    "spark = init_spark()\n",
    "data = spark.read.csv(os.path.join(data_raw_dir, 'remorquages.csv'), header=True)\n",
    "data.head(2)"
   ]
  },
  {
   "cell_type": "code",
   "execution_count": 9,
   "metadata": {},
   "outputs": [],
   "source": [
    "# data = data.withColumn('LONGITUDE_ORIGINE', F.expr('radians(LONGITUDE_ORIGINE)'))\\\n",
    "#             .withColumn('LATITUDE_ORIGINE', F.expr('radians(LATITUDE_ORIGINE)'))\\\n",
    "#                 .withColumn('LONGITUDE_DESTINATION', F.expr('radians(LONGITUDE_DESTINATION)'))\\\n",
    "#                     .withColumn('LATITUDE_DESTINATION', F.expr('radians(LATITUDE_DESTINATION)'))\n",
    "# data.head(5)"
   ]
  },
  {
   "cell_type": "code",
   "execution_count": 10,
   "metadata": {},
   "outputs": [],
   "source": [
    "# # data = data.select('*', (data.LONGITUDE_DESTINATION - data.LONGITUDE_ORIGINE).alias('Diff_longitude'))\n",
    "# data = data.withColumn('Diff_long', F.expr('(LONGITUDE_DESTINATION-LONGITUDE_ORIGINE)/2'))\\\n",
    "#             .withColumn('Diff_lat', F.expr('(LATITUDE_DESTINATION-LATITUDE_ORIGINE)/2'))\n",
    "# data.head(2)"
   ]
  },
  {
   "cell_type": "code",
   "execution_count": 11,
   "metadata": {},
   "outputs": [],
   "source": [
    "# data = data.withColumn('LATITUDE_DESTINATION', F.expr('cos(LATITUDE_DESTINATION)'))\\\n",
    "#             .withColumn('LATITUDE_ORIGINE', F.expr('cos(LATITUDE_ORIGINE)'))\n",
    "# data.head(2)"
   ]
  },
  {
   "cell_type": "code",
   "execution_count": 12,
   "metadata": {},
   "outputs": [],
   "source": [
    "# data = data.withColumn('Diff_long', F.expr('sin(Diff_long)'))\\\n",
    "#             .withColumn('Diff_lat', F.expr('sin(Diff_lat)'))\n",
    "# data.head(2)"
   ]
  },
  {
   "cell_type": "code",
   "execution_count": 13,
   "metadata": {},
   "outputs": [],
   "source": [
    "# # a = np.sin(dlat / 2)**2 + np.cos(lat1) * np.cos(lat2) * np.sin(dlon / 2)**2\n",
    "# data = data.withColumn('A', F.expr('Diff_lat*Diff_lat + LATITUDE_DESTINATION * LATITUDE_ORIGINE * Diff_long * Diff_long'))\n",
    "# data.head(2)"
   ]
  },
  {
   "cell_type": "code",
   "execution_count": 14,
   "metadata": {},
   "outputs": [],
   "source": [
    "# # c = 2 * np.arctan2(np.sqrt(a), np.sqrt(1 - a))\n",
    "# data = data.withColumn('One_minus_A', F.expr('1-A'))\n",
    "# data = data.withColumn('C', F.expr('2 * atan2( sqrt(A), sqrt(One_minus_A))'))\n",
    "# data = data.withColumn('Distance(Km)', F.expr('6373.0*C'))\n",
    "# data.head(2)"
   ]
  },
  {
   "cell_type": "code",
   "execution_count": 15,
   "metadata": {},
   "outputs": [
    {
     "output_type": "execute_result",
     "data": {
      "text/plain": [
       "[Row(DATE_ORIGINE='2015-12-31T00:23:00', LONGITUDE_ORIGINE='-73.5872033592732', LATITUDE_ORIGINE='45.524980545696', RUE_ORIGINE='rue Drolet ', SECTEUR_ORIGINE=None, ARRONDISSEMENT_ORIGINE='Plateau-Mont-Royal', DATE_DESTINATION='2015-12-31T00:25:00', LONGITUDE_DESTINATION='-73.58679102366419', LATITUDE_DESTINATION='45.525130766625004', RUE_DESTINATION='rue de Grand-Pré ', SECTEUR_DESTINATION=None, ARRONDISSEMENT_DESTINATION='Plateau-Mont-Royal', MOTIF_REMORQUAGE=\"Constat d'infraction\", LONGITUDE_ORIGINE_rad=-1.2843389859539491, LATITUDE_ORIGINE_rad=0.7945608024287601, LONGITUDE_DESTINATION_rad=-1.2843317893399486, LATITUDE_DESTINATION_rad=0.7945634242785765, Diff_long=3.5983070002443338e-06, Diff_lat=3.5983070002443338e-06, LATITUDE_DESTINATION_cos=0.700596354812899, LATITUDE_ORIGINE_cos=0.700598225651903, A=1.9303073431879138e-11, One_minus_A=0.9999999999806969, C=8.787052618939605e-06, Distance_km=0.055999886340502104),\n",
       " Row(DATE_ORIGINE='2015-12-31T00:24:00', LONGITUDE_ORIGINE='-73.6222559028091', LATITUDE_ORIGINE='45.585753168523894', RUE_ORIGINE='boulevard des Grandes-Prairies ', SECTEUR_ORIGINE=None, ARRONDISSEMENT_ORIGINE='Saint-Léonard', DATE_DESTINATION='2015-12-31T00:30:00', LONGITUDE_DESTINATION='-73.62100454287709', LATITUDE_DESTINATION='45.586974867512104', RUE_DESTINATION='boulevard des Grandes-Prairies ', SECTEUR_DESTINATION=None, ARRONDISSEMENT_DESTINATION='Saint-Léonard', MOTIF_REMORQUAGE=\"Constat d'infraction\", LONGITUDE_ORIGINE_rad=-1.284950768249849, LATITUDE_ORIGINE_rad=0.7956214847921794, LONGITUDE_DESTINATION_rad=-1.284928927898908, LATITUDE_DESTINATION_rad=0.795642807461992, Diff_long=1.0920175470335313e-05, Diff_lat=1.0920175470335313e-05, LATITUDE_DESTINATION_cos=0.6998257445412148, LATITUDE_ORIGINE_cos=0.6998409754552805, A=1.7765502883338324e-10, One_minus_A=0.999999999822345, C=2.6657458906947876e-05, Distance_km=0.1698879856139788)]"
      ]
     },
     "metadata": {},
     "execution_count": 15
    }
   ],
   "source": [
    "data = data.\\\n",
    "        withColumn('LONGITUDE_ORIGINE_rad', F.expr('radians(LONGITUDE_ORIGINE)')).\\\n",
    "        withColumn('LATITUDE_ORIGINE_rad', F.expr('radians(LATITUDE_ORIGINE)')).\\\n",
    "        withColumn('LONGITUDE_DESTINATION_rad', F.expr('radians(LONGITUDE_DESTINATION)')).\\\n",
    "        withColumn('LATITUDE_DESTINATION_rad', F.expr('radians(LATITUDE_DESTINATION)')).\\\n",
    "        withColumn('Diff_long', F.expr('(LONGITUDE_DESTINATION_rad-LONGITUDE_ORIGINE_rad)/2')).\\\n",
    "        withColumn('Diff_lat', F.expr('(LONGITUDE_DESTINATION_rad-LONGITUDE_ORIGINE_rad)/2')).\\\n",
    "        withColumn('LATITUDE_DESTINATION_cos', F.expr('cos(LATITUDE_DESTINATION_rad)')).\\\n",
    "        withColumn('LATITUDE_ORIGINE_cos', F.expr('cos(LATITUDE_ORIGINE_rad)')).\\\n",
    "        withColumn('Diff_long', F.expr('sin(Diff_long)')).\\\n",
    "        withColumn('Diff_lat', F.expr('sin(Diff_lat)')).\\\n",
    "        withColumn('A', F.expr('Diff_lat*Diff_lat + LATITUDE_DESTINATION_cos * LATITUDE_ORIGINE_cos * Diff_long * Diff_long')).\\\n",
    "        withColumn('One_minus_A', F.expr('1-A')).\\\n",
    "        withColumn('C', F.expr('2 * atan2( sqrt(A), sqrt(One_minus_A))')).\\\n",
    "        withColumn('Distance_km', F.expr('6373.0*C'))\n",
    "data.head(2)"
   ]
  },
  {
   "cell_type": "code",
   "execution_count": 16,
   "metadata": {},
   "outputs": [],
   "source": [
    "df_final = data.select('DATE_ORIGINE', 'LONGITUDE_ORIGINE', 'LATITUDE_ORIGINE', 'Distance_km', 'MOTIF_REMORQUAGE')"
   ]
  },
  {
   "cell_type": "code",
   "execution_count": 17,
   "metadata": {},
   "outputs": [
    {
     "output_type": "stream",
     "name": "stdout",
     "text": [
      "250077\n",
      "248476\n"
     ]
    }
   ],
   "source": [
    "print(df_final.count())\n",
    "df_final = df_final.na.drop()\n",
    "print(df_final.count())"
   ]
  },
  {
   "cell_type": "code",
   "execution_count": 18,
   "metadata": {},
   "outputs": [
    {
     "output_type": "stream",
     "name": "stdout",
     "text": [
      "248476\n"
     ]
    }
   ],
   "source": [
    "print(df_final.filter(df_final.DATE_ORIGINE.isNotNull()).count())\n",
    "# df_final.na.drop(subset=[\"DATE_ORIGINE\"])\n",
    "# print(df_final.filter(df_final.DATE_ORIGINE.isNotNull()).count())"
   ]
  },
  {
   "cell_type": "code",
   "execution_count": 19,
   "metadata": {},
   "outputs": [
    {
     "output_type": "stream",
     "name": "stdout",
     "text": [
      "248476\n"
     ]
    }
   ],
   "source": [
    "print(df_final.filter(df_final.LONGITUDE_ORIGINE.isNotNull()).count())\n",
    "# df_final.na.drop(subset=[\"LONGITUDE_ORIGINE\"])\n",
    "# print(df_final.filter(df_final.LONGITUDE_ORIGINE.isNotNull()).count())"
   ]
  },
  {
   "cell_type": "code",
   "execution_count": 20,
   "metadata": {},
   "outputs": [
    {
     "output_type": "stream",
     "name": "stdout",
     "text": [
      "248476\n"
     ]
    }
   ],
   "source": [
    "print(df_final.filter(df_final.LATITUDE_ORIGINE.isNotNull()).count())\n",
    "# df_final.na.drop(subset=[\"LATITUDE_ORIGINE\"])\n",
    "# print(df_final.filter(df_final.LATITUDE_ORIGINE.isNotNull()).count())"
   ]
  },
  {
   "cell_type": "code",
   "execution_count": 21,
   "metadata": {},
   "outputs": [
    {
     "output_type": "stream",
     "name": "stdout",
     "text": [
      "248476\n"
     ]
    }
   ],
   "source": [
    "print(df_final.filter(df_final.Distance_km.isNotNull()).count())\n",
    "# df_final.na.drop(subset=[\"Distance_km\"])\n",
    "# print(df_final.filter(df_final.Distance_km.isNotNull()).count())"
   ]
  },
  {
   "cell_type": "code",
   "execution_count": 22,
   "metadata": {},
   "outputs": [
    {
     "output_type": "stream",
     "name": "stdout",
     "text": [
      "248476\n"
     ]
    }
   ],
   "source": [
    "print(df_final.filter(df_final.MOTIF_REMORQUAGE.isNotNull()).count())\n",
    "# df_final.na.drop(subset=[\"MOTIF_REMORQUAGE\"])\n",
    "# print(df_final.filter(df_final.MOTIF_REMORQUAGE.isNotNull()).count())"
   ]
  }
 ]
}