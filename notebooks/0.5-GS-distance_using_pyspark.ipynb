{
 "metadata": {
  "language_info": {
   "codemirror_mode": {
    "name": "ipython",
    "version": 3
   },
   "file_extension": ".py",
   "mimetype": "text/x-python",
   "name": "python",
   "nbconvert_exporter": "python",
   "pygments_lexer": "ipython3",
   "version": "3.6.12-final"
  },
  "orig_nbformat": 2,
  "kernelspec": {
   "name": "python3",
   "display_name": "Python 3.6.12 64-bit ('bigdata': conda)",
   "metadata": {
    "interpreter": {
     "hash": "393438f6c0bca4a2b0b9b28a96f5952f2521bd7399947aa24a0a5b669f83e1d6"
    }
   }
  }
 },
 "nbformat": 4,
 "nbformat_minor": 2,
 "cells": [
  {
   "cell_type": "code",
   "execution_count": 1,
   "metadata": {},
   "outputs": [],
   "source": [
    "import os\n",
    "import sys\n",
    "import datetime\n",
    "import pandas as pd\n",
    "import numpy as np\n",
    "import matplotlib.pyplot as plt\n",
    "from pyspark.sql import functions as F\n",
    "from sklearn.neighbors import DistanceMetric"
   ]
  },
  {
   "cell_type": "code",
   "execution_count": 2,
   "metadata": {},
   "outputs": [
    {
     "output_type": "execute_result",
     "data": {
      "text/plain": [
       "'/Users/Gagandeep/Desktop/Concordia/12 Winter 2021/SOEN 471/NoToW/data/raw'"
      ]
     },
     "metadata": {},
     "execution_count": 2
    }
   ],
   "source": [
    "head, tail = os.path.split(os.getcwd())\n",
    "data_dir = os.path.join(head, 'data')\n",
    "data_raw_dir = os.path.join(data_dir, 'raw')\n",
    "data_raw_dir"
   ]
  },
  {
   "cell_type": "code",
   "execution_count": null,
   "metadata": {},
   "outputs": [],
   "source": [
    "os.listdir(data_raw_dir)"
   ]
  },
  {
   "cell_type": "code",
   "execution_count": null,
   "metadata": {},
   "outputs": [],
   "source": [
    "df_remor = pd.read_csv(os.path.join(data_raw_dir, 'remorquages.csv'), header=0)\n",
    "df_remor.head()"
   ]
  },
  {
   "cell_type": "code",
   "execution_count": null,
   "metadata": {},
   "outputs": [],
   "source": [
    "df_avg_drop_dist = df_remor[['LONGITUDE_ORIGINE', 'LATITUDE_ORIGINE', 'LONGITUDE_DESTINATION', 'LATITUDE_DESTINATION']]\n",
    "df_avg_drop_dist\n",
    "R = 6373.0\n",
    "\n",
    "lat1 = np.radians(df_avg_drop_dist['LATITUDE_ORIGINE'])\n",
    "lon1 = np.radians(df_avg_drop_dist['LONGITUDE_ORIGINE'])\n",
    "lat2 = np.radians(df_avg_drop_dist['LATITUDE_DESTINATION'])\n",
    "lon2 = np.radians(df_avg_drop_dist['LONGITUDE_DESTINATION'])\n",
    "\n",
    "dlon = lon2 - lon1\n",
    "dlat = lat2 - lat1\n",
    "# print(dlon, dlat)\n",
    "a = np.sin(dlat / 2)**2 + np.cos(lat1) * np.cos(lat2) * np.sin(dlon / 2)**2\n",
    "# print(type(a))\n",
    "c = 2 * np.arctan2(np.sqrt(a), np.sqrt(1 - a))\n",
    "# print(c)\n",
    "distance = R * c\n",
    "# print(type(distance))\n",
    "df_avg_drop_dist.loc[:, 'avg_dist'] = distance"
   ]
  },
  {
   "source": [
    "# PYSPARK"
   ],
   "cell_type": "markdown",
   "metadata": {}
  },
  {
   "cell_type": "code",
   "execution_count": 3,
   "metadata": {},
   "outputs": [],
   "source": [
    "from pyspark.rdd import RDD\n",
    "from pyspark.sql import DataFrame\n",
    "from pyspark.sql import SparkSession\n",
    "from pyspark.sql.functions import desc\n",
    "from pyspark.sql import functions as F"
   ]
  },
  {
   "cell_type": "code",
   "execution_count": 4,
   "metadata": {},
   "outputs": [],
   "source": [
    "def init_spark():\n",
    "    spark = SparkSession \\\n",
    "        .builder \\\n",
    "        .appName(\"Python Spark SQL basic example\") \\\n",
    "        .config(\"spark.some.config.option\", \"some-value\") \\\n",
    "        .getOrCreate()\n",
    "    return spark"
   ]
  },
  {
   "cell_type": "code",
   "execution_count": 5,
   "metadata": {},
   "outputs": [
    {
     "output_type": "execute_result",
     "data": {
      "text/plain": [
       "pyspark.sql.dataframe.DataFrame"
      ]
     },
     "metadata": {},
     "execution_count": 5
    }
   ],
   "source": [
    "spark = init_spark()\n",
    "data = spark.read.csv(os.path.join(data_raw_dir, 'remorquages.csv'), header=True)\n",
    "data.head(5)\n",
    "type(data)"
   ]
  },
  {
   "cell_type": "code",
   "execution_count": null,
   "metadata": {},
   "outputs": [],
   "source": [
    "data = data.withColumn('LONGITUDE_ORIGINE', F.expr('radians(LONGITUDE_ORIGINE)'))\\\n",
    "            .withColumn('LATITUDE_ORIGINE', F.expr('radians(LATITUDE_ORIGINE)'))\\\n",
    "                .withColumn('LONGITUDE_DESTINATION', F.expr('radians(LONGITUDE_DESTINATION)'))\\\n",
    "                    .withColumn('LATITUDE_DESTINATION', F.expr('radians(LATITUDE_DESTINATION)'))\n",
    "data.head(5)"
   ]
  },
  {
   "cell_type": "code",
   "execution_count": null,
   "metadata": {},
   "outputs": [],
   "source": [
    "# data = data.select('*', (data.LONGITUDE_DESTINATION - data.LONGITUDE_ORIGINE).alias('Diff_longitude'))\n",
    "data = data.withColumn('Diff_long', F.expr('(LONGITUDE_DESTINATION-LONGITUDE_ORIGINE)/2'))\\\n",
    "            .withColumn('Diff_lat', F.expr('(LATITUDE_DESTINATION-LATITUDE_ORIGINE)/2'))\n",
    "data.head(2)"
   ]
  },
  {
   "cell_type": "code",
   "execution_count": null,
   "metadata": {},
   "outputs": [],
   "source": [
    "data = data.withColumn('LATITUDE_DESTINATION', F.expr('cos(LATITUDE_DESTINATION)'))\\\n",
    "            .withColumn('LATITUDE_ORIGINE', F.expr('cos(LATITUDE_ORIGINE)'))\n",
    "data.head(2)"
   ]
  },
  {
   "cell_type": "code",
   "execution_count": null,
   "metadata": {},
   "outputs": [],
   "source": [
    "data = data.withColumn('Diff_long', F.expr('sin(Diff_long)'))\\\n",
    "            .withColumn('Diff_lat', F.expr('sin(Diff_lat)'))\n",
    "data.head(2)"
   ]
  },
  {
   "cell_type": "code",
   "execution_count": null,
   "metadata": {},
   "outputs": [],
   "source": [
    "# a = np.sin(dlat / 2)**2 + np.cos(lat1) * np.cos(lat2) * np.sin(dlon / 2)**2\n",
    "data = data.withColumn('A', F.expr('Diff_lat*Diff_lat + LATITUDE_DESTINATION * LATITUDE_ORIGINE * Diff_long * Diff_long'))\n",
    "data.head(2)"
   ]
  },
  {
   "cell_type": "code",
   "execution_count": null,
   "metadata": {},
   "outputs": [],
   "source": [
    "# c = 2 * np.arctan2(np.sqrt(a), np.sqrt(1 - a))\n",
    "data = data.withColumn('One_minus_A', F.expr('1-A'))\n",
    "data = data.withColumn('C', F.expr('2 * atan2( sqrt(A), sqrt(One_minus_A))'))\n",
    "data = data.withColumn('Distance(Km)', F.expr('6373.0*C'))\n",
    "data.head(2)"
   ]
  },
  {
   "cell_type": "code",
   "execution_count": 6,
   "metadata": {},
   "outputs": [
    {
     "output_type": "execute_result",
     "data": {
      "text/plain": [
       "[Row(DATE_ORIGINE='2015-12-31T00:23:00', LONGITUDE_ORIGINE='-73.5872033592732', LATITUDE_ORIGINE='45.524980545696', RUE_ORIGINE='rue Drolet ', SECTEUR_ORIGINE=None, ARRONDISSEMENT_ORIGINE='Plateau-Mont-Royal', DATE_DESTINATION='2015-12-31T00:25:00', LONGITUDE_DESTINATION='-73.58679102366419', LATITUDE_DESTINATION='45.525130766625004', RUE_DESTINATION='rue de Grand-Pré ', SECTEUR_DESTINATION=None, ARRONDISSEMENT_DESTINATION='Plateau-Mont-Royal', MOTIF_REMORQUAGE=\"Constat d'infraction\", LONGITUDE_ORIGINE_rad=-1.2843389859539491, LATITUDE_ORIGINE_rad=0.7945608024287601, LONGITUDE_DESTINATION_rad=-1.2843317893399486, LATITUDE_DESTINATION_rad=0.7945634242785765, Diff_long=3.5983070002443338e-06, Diff_lat=3.5983070002443338e-06, LATITUDE_DESTINATION_cos=0.700596354812899, LATITUDE_ORIGINE_cos=0.700598225651903, A=1.9303073431879138e-11, One_minus_A=0.9999999999806969, C=8.787052618939605e-06, Distance(Km)=0.055999886340502104),\n",
       " Row(DATE_ORIGINE='2015-12-31T00:24:00', LONGITUDE_ORIGINE='-73.6222559028091', LATITUDE_ORIGINE='45.585753168523894', RUE_ORIGINE='boulevard des Grandes-Prairies ', SECTEUR_ORIGINE=None, ARRONDISSEMENT_ORIGINE='Saint-Léonard', DATE_DESTINATION='2015-12-31T00:30:00', LONGITUDE_DESTINATION='-73.62100454287709', LATITUDE_DESTINATION='45.586974867512104', RUE_DESTINATION='boulevard des Grandes-Prairies ', SECTEUR_DESTINATION=None, ARRONDISSEMENT_DESTINATION='Saint-Léonard', MOTIF_REMORQUAGE=\"Constat d'infraction\", LONGITUDE_ORIGINE_rad=-1.284950768249849, LATITUDE_ORIGINE_rad=0.7956214847921794, LONGITUDE_DESTINATION_rad=-1.284928927898908, LATITUDE_DESTINATION_rad=0.795642807461992, Diff_long=1.0920175470335313e-05, Diff_lat=1.0920175470335313e-05, LATITUDE_DESTINATION_cos=0.6998257445412148, LATITUDE_ORIGINE_cos=0.6998409754552805, A=1.7765502883338324e-10, One_minus_A=0.999999999822345, C=2.6657458906947876e-05, Distance(Km)=0.1698879856139788),\n",
       " Row(DATE_ORIGINE='2015-12-31T00:25:00', LONGITUDE_ORIGINE='-73.6006920362305', LATITUDE_ORIGINE='45.535027243957394', RUE_ORIGINE='rue Saint-Hubert ', SECTEUR_ORIGINE=None, ARRONDISSEMENT_ORIGINE='Rosemont - La Petite-Patrie', DATE_DESTINATION='2015-12-31T00:32:00', LONGITUDE_DESTINATION='-73.600881099347', LATITUDE_DESTINATION='45.5351626927404', RUE_DESTINATION='rue Saint-Hubert ', SECTEUR_DESTINATION=None, ARRONDISSEMENT_DESTINATION='Rosemont - La Petite-Patrie', MOTIF_REMORQUAGE=\"Constat d'infraction\", LONGITUDE_ORIGINE_rad=-1.2845744077785917, LATITUDE_ORIGINE_rad=0.7947361503923758, LONGITUDE_DESTINATION_rad=-1.284577707552469, LATITUDE_DESTINATION_rad=0.794738514419607, Diff_long=-1.649886938625362e-06, Diff_lat=-1.649886938625362e-06, LATITUDE_DESTINATION_cos=0.7004714071370871, LATITUDE_ORIGINE_cos=0.7004730942951861, A=4.057769440292095e-12, One_minus_A=0.9999999999959422, C=4.0287811756398905e-06, Distance(Km)=0.02567542243235302),\n",
       " Row(DATE_ORIGINE='2015-12-31T00:25:00', LONGITUDE_ORIGINE='-73.62082401523371', LATITUDE_ORIGINE='45.516675179245205', RUE_ORIGINE='avenue Ducharme ', SECTEUR_ORIGINE=None, ARRONDISSEMENT_ORIGINE='Outremont', DATE_DESTINATION='2015-12-31T00:28:00', LONGITUDE_DESTINATION='-73.6219951887665', LATITUDE_DESTINATION='45.518763858634394', RUE_DESTINATION='avenue Rockland ', SECTEUR_DESTINATION=None, ARRONDISSEMENT_DESTINATION='Outremont', MOTIF_REMORQUAGE=\"Constat d'infraction\", LONGITUDE_ORIGINE_rad=-1.2849257770971403, LATITUDE_ORIGINE_rad=0.794415846438609, LONGITUDE_DESTINATION_rad=-1.2849462179313997, LATITUDE_DESTINATION_rad=0.7944523007709688, Diff_long=-1.0220417129546946e-05, Diff_lat=-1.0220417129546946e-05, LATITUDE_DESTINATION_cos=0.700675643533784, LATITUDE_ORIGINE_cos=0.7007016525035269, A=1.557415773869306e-10, One_minus_A=0.9999999998442585, C=2.495929305048649e-05, Distance(Km)=0.15906557461075038),\n",
       " Row(DATE_ORIGINE='2015-12-31T00:27:00', LONGITUDE_ORIGINE='-73.580197299593', LATITUDE_ORIGINE='45.494309309111', RUE_ORIGINE='rue Saint-Mathieu ', SECTEUR_ORIGINE=None, ARRONDISSEMENT_ORIGINE='Ville-Marie', DATE_DESTINATION='2015-12-31T00:39:00', LONGITUDE_DESTINATION='-73.5799715549783', LATITUDE_DESTINATION='45.493133150552005', RUE_DESTINATION='rue Sainte-Catherine Ouest ', SECTEUR_DESTINATION=None, ARRONDISSEMENT_DESTINATION='Ville-Marie', MOTIF_REMORQUAGE=\"Constat d'infraction\", LONGITUDE_ORIGINE_rad=-1.2842167071449382, LATITUDE_ORIGINE_rad=0.7940254883646937, LONGITUDE_DESTINATION_rad=-1.2842127671581434, LATITUDE_DESTINATION_rad=0.7940049605253137, Diff_long=1.9699933974091667e-06, Diff_lat=1.9699933974091667e-06, LATITUDE_DESTINATION_cos=0.7009947417130865, LATITUDE_ORIGINE_cos=0.7009801017992455, A=5.787870905715269e-12, One_minus_A=0.9999999999942121, C=4.811598863465839e-06, Distance(Km)=0.03066431955686779),\n",
       " Row(DATE_ORIGINE='2015-12-31T00:27:00', LONGITUDE_ORIGINE='-73.55524854949769', LATITUDE_ORIGINE='45.54491014095329', RUE_ORIGINE='rue Darling ', SECTEUR_ORIGINE=None, ARRONDISSEMENT_ORIGINE='Mercier - Hochelaga-Maisonneuve', DATE_DESTINATION='2015-12-31T00:32:00', LONGITUDE_DESTINATION='-73.5561868680647', LATITUDE_DESTINATION='45.5454827180536', RUE_DESTINATION='rue Sherbrooke Est ', SECTEUR_DESTINATION=None, ARRONDISSEMENT_DESTINATION='Mercier - Hochelaga-Maisonneuve', MOTIF_REMORQUAGE=\"Constat d'infraction\", LONGITUDE_ORIGINE_rad=-1.283781269311518, LATITUDE_ORIGINE_rad=0.7949086394845896, LONGITUDE_DESTINATION_rad=-1.2837976460599447, LATITUDE_DESTINATION_rad=0.7949186328402116, Diff_long=-8.188374213255556e-06, Diff_lat=-8.188374213255556e-06, LATITUDE_DESTINATION_cos=0.7003428487768277, LATITUDE_ORIGINE_cos=0.7003499820652799, A=9.993623946685614e-11, One_minus_A=0.9999999999000637, C=1.9993622930343088e-05, Distance(Km)=0.1274193589350765),\n",
       " Row(DATE_ORIGINE='2015-12-31T00:29:00', LONGITUDE_ORIGINE='-73.6070865447697', LATITUDE_ORIGINE='45.53199496665749', RUE_ORIGINE='avenue De Gaspé ', SECTEUR_ORIGINE=None, ARRONDISSEMENT_ORIGINE='Rosemont - La Petite-Patrie', DATE_DESTINATION='2015-12-31T00:35:00', LONGITUDE_DESTINATION='-73.6146842831882', LATITUDE_DESTINATION='45.5277441788215', RUE_DESTINATION='avenue du Parc ', SECTEUR_DESTINATION=None, ARRONDISSEMENT_DESTINATION='Rosemont - La Petite-Patrie', MOTIF_REMORQUAGE=\"Constat d'infraction\", LONGITUDE_ORIGINE_rad=-1.2846860130066478, LATITUDE_ORIGINE_rad=0.794683227169659, LONGITUDE_DESTINATION_rad=-1.284818618557756, LATITUDE_DESTINATION_rad=0.7946090369261172, Diff_long=-6.6302775505505e-05, Diff_lat=-6.6302775505505e-05, LATITUDE_DESTINATION_cos=0.7005638068232415, LATITUDE_ORIGINE_cos=0.7005108634968242, A=6.5534347645624035e-09, One_minus_A=0.9999999934465652, C=0.00016190657526954537, Distance(Km)=1.0318306041928127),\n",
       " Row(DATE_ORIGINE='2015-12-30T08:40:00', LONGITUDE_ORIGINE='-73.6004625949721', LATITUDE_ORIGINE='45.53740426676001', RUE_ORIGINE='avenue Christophe-Colomb ', SECTEUR_ORIGINE=None, ARRONDISSEMENT_ORIGINE='Rosemont - La Petite-Patrie', DATE_DESTINATION='2015-12-30T08:44:00', LONGITUDE_DESTINATION='-73.60185222742271', LATITUDE_DESTINATION='45.5390887111429', RUE_DESTINATION='rue De La Roche ', SECTEUR_DESTINATION=None, ARRONDISSEMENT_DESTINATION='Rosemont - La Petite-Patrie', MOTIF_REMORQUAGE=\"Constat d'infraction\", LONGITUDE_ORIGINE_rad=-1.2845704032731928, LATITUDE_ORIGINE_rad=0.7947776372666764, LONGITUDE_DESTINATION_rad=-1.2845946569348485, LATITUDE_DESTINATION_rad=0.7948070363672246, Diff_long=-1.2126830827554924e-05, Diff_lat=-1.2126830827554924e-05, LATITUDE_DESTINATION_cos=0.7004225027171604, LATITUDE_ORIGINE_cos=0.7004434853892902, A=2.1920861273956335e-10, One_minus_A=0.9999999997807913, C=2.9611390562118543e-05, Distance(Km)=0.18871339205238147),\n",
       " Row(DATE_ORIGINE='2015-12-30T08:40:00', LONGITUDE_ORIGINE='-73.6279165496176', LATITUDE_ORIGINE='45.43594678762079', RUE_ORIGINE='rue Juliette ', SECTEUR_ORIGINE=None, ARRONDISSEMENT_ORIGINE='LaSalle', DATE_DESTINATION='2015-12-30T08:57:00', LONGITUDE_DESTINATION='-73.62748621040669', LATITUDE_DESTINATION='45.43666982732161', RUE_DESTINATION='rue Ménard ', SECTEUR_DESTINATION=None, ARRONDISSEMENT_DESTINATION='LaSalle', MOTIF_REMORQUAGE=\"Constat d'infraction\", LONGITUDE_ORIGINE_rad=-1.2850495651744498, LATITUDE_ORIGINE_rad=0.7930068702049237, LONGITUDE_DESTINATION_rad=-1.2850420543383192, LATITUDE_DESTINATION_rad=0.7930194896283255, Diff_long=3.7554180652899494e-06, Diff_lat=3.7554180652899494e-06, LATITUDE_DESTINATION_cos=0.7016972059848086, LATITUDE_ORIGINE_cos=0.701706196956215, A=2.1047355585595218e-11, One_minus_A=0.9999999999789526, C=9.175479406710667e-06, Distance(Km)=0.05847533025896708),\n",
       " Row(DATE_ORIGINE='2015-12-31T00:27:00', LONGITUDE_ORIGINE='-73.57298272676591', LATITUDE_ORIGINE='45.5346885723384', RUE_ORIGINE='avenue du Mont-Royal Est ', SECTEUR_ORIGINE=None, ARRONDISSEMENT_ORIGINE='Plateau-Mont-Royal', DATE_DESTINATION='2015-12-31T00:34:00', LONGITUDE_DESTINATION='-73.57300278403291', LATITUDE_DESTINATION='45.53319592889901', RUE_DESTINATION='rue Cartier ', SECTEUR_DESTINATION=None, ARRONDISSEMENT_DESTINATION='Plateau-Mont-Royal', MOTIF_REMORQUAGE=\"Constat d'infraction\", LONGITUDE_ORIGINE_rad=-1.2840907890949809, LATITUDE_ORIGINE_rad=0.7947302394575412, LONGITUDE_DESTINATION_rad=-1.284091139160329, LATITUDE_DESTINATION_rad=0.7947041879149656, Diff_long=-1.7503267402130173e-07, Diff_lat=-1.7503267402130173e-07, LATITUDE_DESTINATION_cos=0.7004959048802307, LATITUDE_ORIGINE_cos=0.7004773127918892, A=4.566916948983089e-14, One_minus_A=0.9999999999999544, C=4.2740692315324795e-07, Distance(Km)=0.002723864321255649)]"
      ]
     },
     "metadata": {},
     "execution_count": 6
    }
   ],
   "source": [
    "data = data.\\\n",
    "        withColumn('LONGITUDE_ORIGINE_rad', F.expr('radians(LONGITUDE_ORIGINE)')).\\\n",
    "        withColumn('LATITUDE_ORIGINE_rad', F.expr('radians(LATITUDE_ORIGINE)')).\\\n",
    "        withColumn('LONGITUDE_DESTINATION_rad', F.expr('radians(LONGITUDE_DESTINATION)')).\\\n",
    "        withColumn('LATITUDE_DESTINATION_rad', F.expr('radians(LATITUDE_DESTINATION)')).\\\n",
    "        withColumn('Diff_long', F.expr('(LONGITUDE_DESTINATION_rad-LONGITUDE_ORIGINE_rad)/2')).\\\n",
    "        withColumn('Diff_lat', F.expr('(LONGITUDE_DESTINATION_rad-LONGITUDE_ORIGINE_rad)/2')).\\\n",
    "        withColumn('LATITUDE_DESTINATION_cos', F.expr('cos(LATITUDE_DESTINATION_rad)')).\\\n",
    "        withColumn('LATITUDE_ORIGINE_cos', F.expr('cos(LATITUDE_ORIGINE_rad)')).\\\n",
    "        withColumn('Diff_long', F.expr('sin(Diff_long)')).\\\n",
    "        withColumn('Diff_lat', F.expr('sin(Diff_lat)')).\\\n",
    "        withColumn('A', F.expr('Diff_lat*Diff_lat + LATITUDE_DESTINATION_cos * LATITUDE_ORIGINE_cos * Diff_long * Diff_long')).\\\n",
    "        withColumn('One_minus_A', F.expr('1-A')).\\\n",
    "        withColumn('C', F.expr('2 * atan2( sqrt(A), sqrt(One_minus_A))')).\\\n",
    "        withColumn('Distance(Km)', F.expr('6373.0*C'))\n",
    "data.head(10)"
   ]
  },
  {
   "cell_type": "code",
   "execution_count": 8,
   "metadata": {},
   "outputs": [
    {
     "output_type": "execute_result",
     "data": {
      "text/plain": [
       "(pyspark.sql.dataframe.DataFrame, pyspark.rdd.RDD)"
      ]
     },
     "metadata": {},
     "execution_count": 8
    }
   ],
   "source": [
    "type(data), type(data.rdd)"
   ]
  },
  {
   "cell_type": "code",
   "execution_count": 12,
   "metadata": {},
   "outputs": [
    {
     "output_type": "execute_result",
     "data": {
      "text/plain": [
       "environ{'ORIGINAL_XDG_CURRENT_DESKTOP': 'undefined',\n",
       "        'PYTHONIOENCODING': 'utf-8',\n",
       "        'CONDA_PYTHON_EXE': '/opt/anaconda3/bin/python',\n",
       "        'TERM_SESSION_ID': '2B23270F-0470-49FE-ADCF-42DA4CE8DC49',\n",
       "        'CONDA_BACKUP_JAVA_HOME': '',\n",
       "        '_CE_CONDA': '',\n",
       "        'TERM_PROGRAM_VERSION': '433',\n",
       "        'VSCODE_LOG_STACK': 'false',\n",
       "        'LOGNAME': 'Gagandeep',\n",
       "        'VSCODE_VERBOSE_LOGGING': 'true',\n",
       "        'PATH': '/Library/Frameworks/Python.framework/Versions/3.7/bin:/usr/local/bin:/usr/bin:/bin:/usr/sbin:/sbin:/User/Gagandeep/.local/bin:/Library/TeX/texbin:/usr/local/go/bin:/usr/local/share/dotnet:~/.dotnet/tools:/Library/Frameworks/Mono.framework/Versions/Current/Commands:/Applications/Xamarin Workbooks.app/Contents/SharedSupport/path-bin:/opt/anaconda3/bin:/opt/anaconda3/condabin:/Library/Frameworks/Python.framework/Versions/3.7/bin',\n",
       "        'VSCODE_IPC_HOOK_EXTHOST': '/var/folders/vp/677kztx911qcqv02qrbkfq0c0000gn/T/vscode-ipc-022bc81c-b17d-46f2-9d5e-a297b616ed26.sock',\n",
       "        'PROJ_LIB': '/opt/anaconda3/envs/bigdata/share/proj',\n",
       "        'PYTHONUNBUFFERED': '1',\n",
       "        'VSCODE_HANDLES_UNCAUGHT_ERRORS': 'true',\n",
       "        'VSCODE_IPC_HOOK': '/Users/Gagandeep/Library/Application Support/Code/1.55.0-main.sock',\n",
       "        'TERM_PROGRAM': 'Apple_Terminal',\n",
       "        'LANG': 'en_CA.UTF-8',\n",
       "        'TERM': 'xterm-color',\n",
       "        'SHELL': '/bin/zsh',\n",
       "        'VERSIONER_PYTHON_VERSION': '2.7',\n",
       "        'SHLVL': '2',\n",
       "        'CONDA_PREFIX': '/opt/anaconda3/envs/bigdata',\n",
       "        'XPC_FLAGS': '0x0',\n",
       "        'PROJ_NETWORK': 'ON',\n",
       "        'CONDA_BACKUP_JAVA_LD_LIBRARY_PATH': '',\n",
       "        'TMPDIR': '/var/folders/vp/677kztx911qcqv02qrbkfq0c0000gn/T/',\n",
       "        'CONDA_DEFAULT_ENV': 'bigdata',\n",
       "        'JAVA_HOME': '/opt/anaconda3/envs/bigdata',\n",
       "        'HOME': '/Users/Gagandeep',\n",
       "        'VSCODE_NLS_CONFIG': '{\"locale\":\"en-us\",\"availableLanguages\":{},\"_languagePackSupport\":true}',\n",
       "        'CONDA_PREFIX_1': '/opt/anaconda3',\n",
       "        'SSH_AUTH_SOCK': '/private/tmp/com.apple.launchd.ENKx6L63pt/Listeners',\n",
       "        'VSCODE_PIPE_LOGGING': 'true',\n",
       "        'VSCODE_CWD': '/',\n",
       "        'APPLICATION_INSIGHTS_NO_DIAGNOSTIC_CHANNEL': 'true',\n",
       "        'XPC_SERVICE_NAME': '0',\n",
       "        'CONDA_SHLVL': '2',\n",
       "        'VSCODE_NODE_CACHED_DATA_DIR': '/Users/Gagandeep/Library/Application Support/Code/CachedData/c185983a683d14c396952dd432459097bc7f757f',\n",
       "        'CONDA_PROMPT_MODIFIER': '(bigdata) ',\n",
       "        '_CE_M': '',\n",
       "        'VSCODE_LOG_NATIVE': 'false',\n",
       "        '_': '/usr/bin/python',\n",
       "        'VSCODE_AMD_ENTRYPOINT': 'vs/workbench/services/extensions/node/extensionHostProcess',\n",
       "        'VSCODE_PID': '1265',\n",
       "        'JAVA_LD_LIBRARY_PATH': '/opt/anaconda3/envs/bigdata/jre/lib/server',\n",
       "        '__CF_USER_TEXT_ENCODING': '0x1F5:0x0:0x52',\n",
       "        'PWD': '/',\n",
       "        'CONDA_EXE': '/opt/anaconda3/bin/conda',\n",
       "        'ELECTRON_RUN_AS_NODE': '1',\n",
       "        'USER': 'Gagandeep',\n",
       "        'PYTHONPATH': '/Users/Gagandeep/.vscode/extensions/ms-toolsai.jupyter-2021.3.684299474/pythonFiles:/Users/Gagandeep/.vscode/extensions/ms-toolsai.jupyter-2021.3.684299474/pythonFiles/lib/python',\n",
       "        'OLDPWD': '/',\n",
       "        'JPY_PARENT_PID': '8027',\n",
       "        'CLICOLOR': '1',\n",
       "        'PAGER': 'cat',\n",
       "        'GIT_PAGER': 'cat',\n",
       "        'MPLBACKEND': 'module://ipykernel.pylab.backend_inline',\n",
       "        'KMP_DUPLICATE_LIB_OK': 'True',\n",
       "        'KMP_INIT_AT_FORK': 'FALSE'}"
      ]
     },
     "metadata": {},
     "execution_count": 12
    }
   ],
   "source": [
    "os.environ"
   ]
  },
  {
   "cell_type": "code",
   "execution_count": null,
   "metadata": {},
   "outputs": [],
   "source": []
  }
 ]
}