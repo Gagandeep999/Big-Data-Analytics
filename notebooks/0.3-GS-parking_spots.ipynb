{
 "cells": [
  {
   "cell_type": "code",
   "execution_count": 2,
   "id": "royal-chaos",
   "metadata": {},
   "outputs": [],
   "source": [
    "import os\n",
    "import sys\n",
    "import pandas as pd\n",
    "import geopandas as gpd\n",
    "import numpy as np\n",
    "import matplotlib.pyplot as plt\n",
    "from sklearn.neighbors import DistanceMetric\n",
    "import math\n",
    "from math import sin, cos, sqrt, atan2, radians"
   ]
  },
  {
   "cell_type": "code",
   "execution_count": 4,
   "id": "hollywood-solomon",
   "metadata": {},
   "outputs": [
    {
     "data": {
      "text/plain": [
       "'/Users/Gagandeep/Desktop/Concordia/12 Winter 2021/SOEN 471/NoToW/data/raw'"
      ]
     },
     "execution_count": 4,
     "metadata": {},
     "output_type": "execute_result"
    }
   ],
   "source": [
    "head, tail = os.path.split(os.getcwd())\n",
    "data_dir = os.path.join(head, 'data')\n",
    "data_raw_dir = os.path.join(data_dir, 'raw')\n",
    "data_raw_dir"
   ]
  },
  {
   "cell_type": "code",
   "execution_count": 9,
   "id": "corporate-modeling",
   "metadata": {},
   "outputs": [
    {
     "data": {
      "text/html": [
       "<div>\n",
       "<style scoped>\n",
       "    .dataframe tbody tr th:only-of-type {\n",
       "        vertical-align: middle;\n",
       "    }\n",
       "\n",
       "    .dataframe tbody tr th {\n",
       "        vertical-align: top;\n",
       "    }\n",
       "\n",
       "    .dataframe thead th {\n",
       "        text-align: right;\n",
       "    }\n",
       "</style>\n",
       "<table border=\"1\" class=\"dataframe\">\n",
       "  <thead>\n",
       "    <tr style=\"text-align: right;\">\n",
       "      <th></th>\n",
       "      <th>sNoPlace</th>\n",
       "      <th>nLongitude</th>\n",
       "      <th>nLatitude</th>\n",
       "      <th>nPositionCentreLongitude</th>\n",
       "      <th>nPositionCentreLatitude</th>\n",
       "      <th>sStatut</th>\n",
       "      <th>sGenre</th>\n",
       "      <th>sType</th>\n",
       "      <th>sAutreTete</th>\n",
       "      <th>sNomRue</th>\n",
       "      <th>nSupVelo</th>\n",
       "      <th>sTypeExploitation</th>\n",
       "      <th>nTarifHoraire</th>\n",
       "      <th>sLocalisation</th>\n",
       "      <th>nTarifMax</th>\n",
       "    </tr>\n",
       "  </thead>\n",
       "  <tbody>\n",
       "    <tr>\n",
       "      <th>0</th>\n",
       "      <td>A007</td>\n",
       "      <td>-73.581856</td>\n",
       "      <td>45.489593</td>\n",
       "      <td>-73.581870</td>\n",
       "      <td>45.489623</td>\n",
       "      <td>1</td>\n",
       "      <td>NORMAL</td>\n",
       "      <td>Double</td>\n",
       "      <td>A008</td>\n",
       "      <td>Sussex</td>\n",
       "      <td>0</td>\n",
       "      <td>Régulier Payez-Partez</td>\n",
       "      <td>350</td>\n",
       "      <td>S</td>\n",
       "      <td>NaN</td>\n",
       "    </tr>\n",
       "    <tr>\n",
       "      <th>1</th>\n",
       "      <td>A008</td>\n",
       "      <td>-73.581856</td>\n",
       "      <td>45.489593</td>\n",
       "      <td>-73.581806</td>\n",
       "      <td>45.489592</td>\n",
       "      <td>1</td>\n",
       "      <td>NORMAL</td>\n",
       "      <td>Double</td>\n",
       "      <td>A007</td>\n",
       "      <td>Sussex</td>\n",
       "      <td>0</td>\n",
       "      <td>Régulier Payez-Partez</td>\n",
       "      <td>350</td>\n",
       "      <td>S</td>\n",
       "      <td>NaN</td>\n",
       "    </tr>\n",
       "    <tr>\n",
       "      <th>2</th>\n",
       "      <td>A009</td>\n",
       "      <td>-73.581727</td>\n",
       "      <td>45.489532</td>\n",
       "      <td>-73.581740</td>\n",
       "      <td>45.489562</td>\n",
       "      <td>1</td>\n",
       "      <td>NORMAL</td>\n",
       "      <td>Double</td>\n",
       "      <td>A010</td>\n",
       "      <td>Sussex</td>\n",
       "      <td>0</td>\n",
       "      <td>Régulier Payez-Partez</td>\n",
       "      <td>350</td>\n",
       "      <td>S</td>\n",
       "      <td>NaN</td>\n",
       "    </tr>\n",
       "    <tr>\n",
       "      <th>3</th>\n",
       "      <td>A010</td>\n",
       "      <td>-73.581727</td>\n",
       "      <td>45.489532</td>\n",
       "      <td>-73.581676</td>\n",
       "      <td>45.489531</td>\n",
       "      <td>1</td>\n",
       "      <td>NORMAL</td>\n",
       "      <td>Double</td>\n",
       "      <td>A009</td>\n",
       "      <td>Sussex</td>\n",
       "      <td>0</td>\n",
       "      <td>Régulier Payez-Partez</td>\n",
       "      <td>350</td>\n",
       "      <td>S</td>\n",
       "      <td>NaN</td>\n",
       "    </tr>\n",
       "    <tr>\n",
       "      <th>4</th>\n",
       "      <td>A011</td>\n",
       "      <td>-73.581597</td>\n",
       "      <td>45.489471</td>\n",
       "      <td>-73.581611</td>\n",
       "      <td>45.489501</td>\n",
       "      <td>1</td>\n",
       "      <td>NORMAL</td>\n",
       "      <td>Double</td>\n",
       "      <td>A012</td>\n",
       "      <td>Sussex</td>\n",
       "      <td>0</td>\n",
       "      <td>Régulier Payez-Partez</td>\n",
       "      <td>350</td>\n",
       "      <td>S</td>\n",
       "      <td>NaN</td>\n",
       "    </tr>\n",
       "  </tbody>\n",
       "</table>\n",
       "</div>"
      ],
      "text/plain": [
       "  sNoPlace  nLongitude  nLatitude  nPositionCentreLongitude  \\\n",
       "0     A007  -73.581856  45.489593                -73.581870   \n",
       "1     A008  -73.581856  45.489593                -73.581806   \n",
       "2     A009  -73.581727  45.489532                -73.581740   \n",
       "3     A010  -73.581727  45.489532                -73.581676   \n",
       "4     A011  -73.581597  45.489471                -73.581611   \n",
       "\n",
       "   nPositionCentreLatitude  sStatut  sGenre   sType sAutreTete sNomRue  \\\n",
       "0                45.489623        1  NORMAL  Double       A008  Sussex   \n",
       "1                45.489592        1  NORMAL  Double       A007  Sussex   \n",
       "2                45.489562        1  NORMAL  Double       A010  Sussex   \n",
       "3                45.489531        1  NORMAL  Double       A009  Sussex   \n",
       "4                45.489501        1  NORMAL  Double       A012  Sussex   \n",
       "\n",
       "   nSupVelo      sTypeExploitation  nTarifHoraire sLocalisation  nTarifMax  \n",
       "0         0  Régulier Payez-Partez            350             S        NaN  \n",
       "1         0  Régulier Payez-Partez            350             S        NaN  \n",
       "2         0  Régulier Payez-Partez            350             S        NaN  \n",
       "3         0  Régulier Payez-Partez            350             S        NaN  \n",
       "4         0  Régulier Payez-Partez            350             S        NaN  "
      ]
     },
     "execution_count": 9,
     "metadata": {},
     "output_type": "execute_result"
    }
   ],
   "source": [
    "df_spots = pd.read_csv(os.path.join(data_raw_dir, 'Places.csv'), header=0, encoding='cp1252')\n",
    "df_spots.head()"
   ]
  },
  {
   "cell_type": "code",
   "execution_count": 21,
   "id": "global-plasma",
   "metadata": {},
   "outputs": [
    {
     "name": "stdout",
     "output_type": "stream",
     "text": [
      "sNoPlace                    18652\n",
      "nLongitude                  18652\n",
      "nLatitude                   18652\n",
      "nPositionCentreLongitude    18652\n",
      "nPositionCentreLatitude     18652\n",
      "sStatut                     18652\n",
      "sGenre                      18652\n",
      "sType                       18652\n",
      "sAutreTete                  13504\n",
      "sNomRue                     18652\n",
      "nSupVelo                    18652\n",
      "sTypeExploitation           18652\n",
      "nTarifHoraire               18652\n",
      "sLocalisation               18652\n",
      "nTarifMax                     666\n",
      "dtype: int64\n"
     ]
    },
    {
     "data": {
      "text/plain": [
       "11900"
      ]
     },
     "execution_count": 21,
     "metadata": {},
     "output_type": "execute_result"
    }
   ],
   "source": [
    "print(df_spots.count())\n",
    "len(df_spots['nLatitude'].unique())"
   ]
  },
  {
   "cell_type": "code",
   "execution_count": 22,
   "id": "corporate-amplifier",
   "metadata": {},
   "outputs": [
    {
     "data": {
      "image/png": "[encoded data removed]",
      "text/plain": [
       "<Figure size 432x288 with 1 Axes>"
      ]
     },
     "metadata": {
      "needs_background": "light"
     },
     "output_type": "display_data"
    }
   ],
   "source": [
    "plt.scatter(x=df_spots['nLongitude'].unique(), y=df_spots['nLatitude'].unique())\n",
    "plt.show()"
   ]
  },
  {
   "cell_type": "code",
   "execution_count": null,
   "id": "infectious-margin",
   "metadata": {},
   "outputs": [],
   "source": []
  }
 ],
 "metadata": {
  "kernelspec": {
   "display_name": "Python 3",
   "language": "python",
   "name": "python3"
  },
  "language_info": {
   "codemirror_mode": {
    "name": "ipython",
    "version": 3
   },
   "file_extension": ".py",
   "mimetype": "text/x-python",
   "name": "python",
   "nbconvert_exporter": "python",
   "pygments_lexer": "ipython3",
   "version": "3.6.12"
  }
 },
 "nbformat": 4,
 "nbformat_minor": 5
}
