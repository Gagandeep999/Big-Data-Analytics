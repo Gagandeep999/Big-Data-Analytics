{
 "cells": [
  {
   "cell_type": "code",
   "execution_count": 1,
   "id": "charged-country",
   "metadata": {},
   "outputs": [],
   "source": [
    "import os\n",
    "import sys\n",
    "import pandas as pd\n",
    "import geopandas as gpd\n",
    "import numpy as np\n",
    "import matplotlib.pyplot as plt\n",
    "from sklearn.neighbors import DistanceMetric\n",
    "import math\n",
    "from math import sin, cos, sqrt, atan2, radians"
   ]
  },
  {
   "cell_type": "code",
   "execution_count": 2,
   "id": "boolean-dairy",
   "metadata": {},
   "outputs": [
    {
     "data": {
      "text/plain": [
       "'/Users/Gagandeep/Desktop/Concordia/12 Winter 2021/SOEN 471/NoToW/data/raw'"
      ]
     },
     "execution_count": 2,
     "metadata": {},
     "output_type": "execute_result"
    }
   ],
   "source": [
    "head, tail = os.path.split(os.getcwd())\n",
    "data_dir = os.path.join(head, 'data')\n",
    "data_raw_dir = os.path.join(data_dir, 'raw')\n",
    "data_raw_dir"
   ]
  },
  {
   "cell_type": "code",
   "execution_count": 3,
   "id": "fundamental-curtis",
   "metadata": {},
   "outputs": [
    {
     "data": {
      "text/html": [
       "<div>\n",
       "<style scoped>\n",
       "    .dataframe tbody tr th:only-of-type {\n",
       "        vertical-align: middle;\n",
       "    }\n",
       "\n",
       "    .dataframe tbody tr th {\n",
       "        vertical-align: top;\n",
       "    }\n",
       "\n",
       "    .dataframe thead th {\n",
       "        text-align: right;\n",
       "    }\n",
       "</style>\n",
       "<table border=\"1\" class=\"dataframe\">\n",
       "  <thead>\n",
       "    <tr style=\"text-align: right;\">\n",
       "      <th></th>\n",
       "      <th>sNoPlace</th>\n",
       "      <th>nLongitude</th>\n",
       "      <th>nLatitude</th>\n",
       "      <th>nPositionCentreLongitude</th>\n",
       "      <th>nPositionCentreLatitude</th>\n",
       "      <th>sStatut</th>\n",
       "      <th>sGenre</th>\n",
       "      <th>sType</th>\n",
       "      <th>sAutreTete</th>\n",
       "      <th>sNomRue</th>\n",
       "      <th>nSupVelo</th>\n",
       "      <th>sTypeExploitation</th>\n",
       "      <th>nTarifHoraire</th>\n",
       "      <th>sLocalisation</th>\n",
       "      <th>nTarifMax</th>\n",
       "    </tr>\n",
       "  </thead>\n",
       "  <tbody>\n",
       "    <tr>\n",
       "      <th>0</th>\n",
       "      <td>A007</td>\n",
       "      <td>-73.581856</td>\n",
       "      <td>45.489593</td>\n",
       "      <td>-73.581870</td>\n",
       "      <td>45.489623</td>\n",
       "      <td>1</td>\n",
       "      <td>NORMAL</td>\n",
       "      <td>Double</td>\n",
       "      <td>A008</td>\n",
       "      <td>Sussex</td>\n",
       "      <td>0</td>\n",
       "      <td>Régulier Payez-Partez</td>\n",
       "      <td>350</td>\n",
       "      <td>S</td>\n",
       "      <td>NaN</td>\n",
       "    </tr>\n",
       "    <tr>\n",
       "      <th>1</th>\n",
       "      <td>A008</td>\n",
       "      <td>-73.581856</td>\n",
       "      <td>45.489593</td>\n",
       "      <td>-73.581806</td>\n",
       "      <td>45.489592</td>\n",
       "      <td>1</td>\n",
       "      <td>NORMAL</td>\n",
       "      <td>Double</td>\n",
       "      <td>A007</td>\n",
       "      <td>Sussex</td>\n",
       "      <td>0</td>\n",
       "      <td>Régulier Payez-Partez</td>\n",
       "      <td>350</td>\n",
       "      <td>S</td>\n",
       "      <td>NaN</td>\n",
       "    </tr>\n",
       "    <tr>\n",
       "      <th>2</th>\n",
       "      <td>A009</td>\n",
       "      <td>-73.581727</td>\n",
       "      <td>45.489532</td>\n",
       "      <td>-73.581740</td>\n",
       "      <td>45.489562</td>\n",
       "      <td>1</td>\n",
       "      <td>NORMAL</td>\n",
       "      <td>Double</td>\n",
       "      <td>A010</td>\n",
       "      <td>Sussex</td>\n",
       "      <td>0</td>\n",
       "      <td>Régulier Payez-Partez</td>\n",
       "      <td>350</td>\n",
       "      <td>S</td>\n",
       "      <td>NaN</td>\n",
       "    </tr>\n",
       "    <tr>\n",
       "      <th>3</th>\n",
       "      <td>A010</td>\n",
       "      <td>-73.581727</td>\n",
       "      <td>45.489532</td>\n",
       "      <td>-73.581676</td>\n",
       "      <td>45.489531</td>\n",
       "      <td>1</td>\n",
       "      <td>NORMAL</td>\n",
       "      <td>Double</td>\n",
       "      <td>A009</td>\n",
       "      <td>Sussex</td>\n",
       "      <td>0</td>\n",
       "      <td>Régulier Payez-Partez</td>\n",
       "      <td>350</td>\n",
       "      <td>S</td>\n",
       "      <td>NaN</td>\n",
       "    </tr>\n",
       "    <tr>\n",
       "      <th>4</th>\n",
       "      <td>A011</td>\n",
       "      <td>-73.581597</td>\n",
       "      <td>45.489471</td>\n",
       "      <td>-73.581611</td>\n",
       "      <td>45.489501</td>\n",
       "      <td>1</td>\n",
       "      <td>NORMAL</td>\n",
       "      <td>Double</td>\n",
       "      <td>A012</td>\n",
       "      <td>Sussex</td>\n",
       "      <td>0</td>\n",
       "      <td>Régulier Payez-Partez</td>\n",
       "      <td>350</td>\n",
       "      <td>S</td>\n",
       "      <td>NaN</td>\n",
       "    </tr>\n",
       "  </tbody>\n",
       "</table>\n",
       "</div>"
      ],
      "text/plain": [
       "  sNoPlace  nLongitude  nLatitude  nPositionCentreLongitude  \\\n",
       "0     A007  -73.581856  45.489593                -73.581870   \n",
       "1     A008  -73.581856  45.489593                -73.581806   \n",
       "2     A009  -73.581727  45.489532                -73.581740   \n",
       "3     A010  -73.581727  45.489532                -73.581676   \n",
       "4     A011  -73.581597  45.489471                -73.581611   \n",
       "\n",
       "   nPositionCentreLatitude  sStatut  sGenre   sType sAutreTete sNomRue  \\\n",
       "0                45.489623        1  NORMAL  Double       A008  Sussex   \n",
       "1                45.489592        1  NORMAL  Double       A007  Sussex   \n",
       "2                45.489562        1  NORMAL  Double       A010  Sussex   \n",
       "3                45.489531        1  NORMAL  Double       A009  Sussex   \n",
       "4                45.489501        1  NORMAL  Double       A012  Sussex   \n",
       "\n",
       "   nSupVelo      sTypeExploitation  nTarifHoraire sLocalisation  nTarifMax  \n",
       "0         0  Régulier Payez-Partez            350             S        NaN  \n",
       "1         0  Régulier Payez-Partez            350             S        NaN  \n",
       "2         0  Régulier Payez-Partez            350             S        NaN  \n",
       "3         0  Régulier Payez-Partez            350             S        NaN  \n",
       "4         0  Régulier Payez-Partez            350             S        NaN  "
      ]
     },
     "execution_count": 3,
     "metadata": {},
     "output_type": "execute_result"
    }
   ],
   "source": [
    "df_spots = pd.read_csv(os.path.join(data_raw_dir, 'Places.csv'), header=0, encoding='cp1252')\n",
    "df_spots.head()"
   ]
  },
  {
   "cell_type": "code",
   "execution_count": 4,
   "id": "given-relaxation",
   "metadata": {},
   "outputs": [
    {
     "data": {
      "text/html": [
       "<div>\n",
       "<style scoped>\n",
       "    .dataframe tbody tr th:only-of-type {\n",
       "        vertical-align: middle;\n",
       "    }\n",
       "\n",
       "    .dataframe tbody tr th {\n",
       "        vertical-align: top;\n",
       "    }\n",
       "\n",
       "    .dataframe thead th {\n",
       "        text-align: right;\n",
       "    }\n",
       "</style>\n",
       "<table border=\"1\" class=\"dataframe\">\n",
       "  <thead>\n",
       "    <tr style=\"text-align: right;\">\n",
       "      <th></th>\n",
       "      <th>nLongitude</th>\n",
       "      <th>nLatitude</th>\n",
       "      <th>LOC</th>\n",
       "    </tr>\n",
       "  </thead>\n",
       "  <tbody>\n",
       "    <tr>\n",
       "      <th>0</th>\n",
       "      <td>-73.58186</td>\n",
       "      <td>45.48959</td>\n",
       "      <td>45.48959,-73.58186</td>\n",
       "    </tr>\n",
       "    <tr>\n",
       "      <th>1</th>\n",
       "      <td>-73.58186</td>\n",
       "      <td>45.48959</td>\n",
       "      <td>45.48959,-73.58186</td>\n",
       "    </tr>\n",
       "    <tr>\n",
       "      <th>2</th>\n",
       "      <td>-73.58173</td>\n",
       "      <td>45.48953</td>\n",
       "      <td>45.48953,-73.58173</td>\n",
       "    </tr>\n",
       "    <tr>\n",
       "      <th>3</th>\n",
       "      <td>-73.58173</td>\n",
       "      <td>45.48953</td>\n",
       "      <td>45.48953,-73.58173</td>\n",
       "    </tr>\n",
       "    <tr>\n",
       "      <th>4</th>\n",
       "      <td>-73.5816</td>\n",
       "      <td>45.48947</td>\n",
       "      <td>45.48947,-73.5816</td>\n",
       "    </tr>\n",
       "    <tr>\n",
       "      <th>...</th>\n",
       "      <td>...</td>\n",
       "      <td>...</td>\n",
       "      <td>...</td>\n",
       "    </tr>\n",
       "    <tr>\n",
       "      <th>18647</th>\n",
       "      <td>-73.62571</td>\n",
       "      <td>45.47229</td>\n",
       "      <td>45.47229,-73.62571</td>\n",
       "    </tr>\n",
       "    <tr>\n",
       "      <th>18648</th>\n",
       "      <td>-73.62562</td>\n",
       "      <td>45.47238</td>\n",
       "      <td>45.47238,-73.62562</td>\n",
       "    </tr>\n",
       "    <tr>\n",
       "      <th>18649</th>\n",
       "      <td>-73.62522</td>\n",
       "      <td>45.47282</td>\n",
       "      <td>45.47282,-73.62522</td>\n",
       "    </tr>\n",
       "    <tr>\n",
       "      <th>18650</th>\n",
       "      <td>-73.62518</td>\n",
       "      <td>45.47286</td>\n",
       "      <td>45.47286,-73.62518</td>\n",
       "    </tr>\n",
       "    <tr>\n",
       "      <th>18651</th>\n",
       "      <td>-73.62518</td>\n",
       "      <td>45.47286</td>\n",
       "      <td>45.47286,-73.62518</td>\n",
       "    </tr>\n",
       "  </tbody>\n",
       "</table>\n",
       "<p>18652 rows × 3 columns</p>\n",
       "</div>"
      ],
      "text/plain": [
       "      nLongitude nLatitude                 LOC\n",
       "0      -73.58186  45.48959  45.48959,-73.58186\n",
       "1      -73.58186  45.48959  45.48959,-73.58186\n",
       "2      -73.58173  45.48953  45.48953,-73.58173\n",
       "3      -73.58173  45.48953  45.48953,-73.58173\n",
       "4       -73.5816  45.48947   45.48947,-73.5816\n",
       "...          ...       ...                 ...\n",
       "18647  -73.62571  45.47229  45.47229,-73.62571\n",
       "18648  -73.62562  45.47238  45.47238,-73.62562\n",
       "18649  -73.62522  45.47282  45.47282,-73.62522\n",
       "18650  -73.62518  45.47286  45.47286,-73.62518\n",
       "18651  -73.62518  45.47286  45.47286,-73.62518\n",
       "\n",
       "[18652 rows x 3 columns]"
      ]
     },
     "execution_count": 4,
     "metadata": {},
     "output_type": "execute_result"
    }
   ],
   "source": [
    "df_spots = df_spots[['nLongitude', 'nLatitude']]\n",
    "df_spots = df_spots.round(5)\n",
    "df_spots['nLongitude'] = df_spots['nLongitude'].astype(str)\n",
    "df_spots['nLatitude'] = df_spots['nLatitude'].astype(str)\n",
    "df_spots['LOC'] = df_spots['nLatitude']+','+df_spots['nLongitude']\n",
    "df_spots"
   ]
  },
  {
   "cell_type": "code",
   "execution_count": 5,
   "id": "cathedral-component",
   "metadata": {},
   "outputs": [
    {
     "data": {
      "text/html": [
       "<div>\n",
       "<style scoped>\n",
       "    .dataframe tbody tr th:only-of-type {\n",
       "        vertical-align: middle;\n",
       "    }\n",
       "\n",
       "    .dataframe tbody tr th {\n",
       "        vertical-align: top;\n",
       "    }\n",
       "\n",
       "    .dataframe thead th {\n",
       "        text-align: right;\n",
       "    }\n",
       "</style>\n",
       "<table border=\"1\" class=\"dataframe\">\n",
       "  <thead>\n",
       "    <tr style=\"text-align: right;\">\n",
       "      <th></th>\n",
       "      <th>DATE_ORIGINE</th>\n",
       "      <th>LONGITUDE_ORIGINE</th>\n",
       "      <th>LATITUDE_ORIGINE</th>\n",
       "      <th>RUE_ORIGINE</th>\n",
       "      <th>SECTEUR_ORIGINE</th>\n",
       "      <th>ARRONDISSEMENT_ORIGINE</th>\n",
       "      <th>DATE_DESTINATION</th>\n",
       "      <th>LONGITUDE_DESTINATION</th>\n",
       "      <th>LATITUDE_DESTINATION</th>\n",
       "      <th>RUE_DESTINATION</th>\n",
       "      <th>SECTEUR_DESTINATION</th>\n",
       "      <th>ARRONDISSEMENT_DESTINATION</th>\n",
       "      <th>MOTIF_REMORQUAGE</th>\n",
       "    </tr>\n",
       "  </thead>\n",
       "  <tbody>\n",
       "    <tr>\n",
       "      <th>0</th>\n",
       "      <td>2015-12-31T00:23:00</td>\n",
       "      <td>-73.587203</td>\n",
       "      <td>45.524981</td>\n",
       "      <td>rue Drolet</td>\n",
       "      <td>NaN</td>\n",
       "      <td>Plateau-Mont-Royal</td>\n",
       "      <td>2015-12-31T00:25:00</td>\n",
       "      <td>-73.586791</td>\n",
       "      <td>45.525131</td>\n",
       "      <td>rue de Grand-Pré</td>\n",
       "      <td>NaN</td>\n",
       "      <td>Plateau-Mont-Royal</td>\n",
       "      <td>Constat d'infraction</td>\n",
       "    </tr>\n",
       "    <tr>\n",
       "      <th>1</th>\n",
       "      <td>2015-12-31T00:24:00</td>\n",
       "      <td>-73.622256</td>\n",
       "      <td>45.585753</td>\n",
       "      <td>boulevard des Grandes-Prairies</td>\n",
       "      <td>NaN</td>\n",
       "      <td>Saint-Léonard</td>\n",
       "      <td>2015-12-31T00:30:00</td>\n",
       "      <td>-73.621005</td>\n",
       "      <td>45.586975</td>\n",
       "      <td>boulevard des Grandes-Prairies</td>\n",
       "      <td>NaN</td>\n",
       "      <td>Saint-Léonard</td>\n",
       "      <td>Constat d'infraction</td>\n",
       "    </tr>\n",
       "    <tr>\n",
       "      <th>2</th>\n",
       "      <td>2015-12-31T00:25:00</td>\n",
       "      <td>-73.600692</td>\n",
       "      <td>45.535027</td>\n",
       "      <td>rue Saint-Hubert</td>\n",
       "      <td>NaN</td>\n",
       "      <td>Rosemont - La Petite-Patrie</td>\n",
       "      <td>2015-12-31T00:32:00</td>\n",
       "      <td>-73.600881</td>\n",
       "      <td>45.535163</td>\n",
       "      <td>rue Saint-Hubert</td>\n",
       "      <td>NaN</td>\n",
       "      <td>Rosemont - La Petite-Patrie</td>\n",
       "      <td>Constat d'infraction</td>\n",
       "    </tr>\n",
       "    <tr>\n",
       "      <th>3</th>\n",
       "      <td>2015-12-31T00:25:00</td>\n",
       "      <td>-73.620824</td>\n",
       "      <td>45.516675</td>\n",
       "      <td>avenue Ducharme</td>\n",
       "      <td>NaN</td>\n",
       "      <td>Outremont</td>\n",
       "      <td>2015-12-31T00:28:00</td>\n",
       "      <td>-73.621995</td>\n",
       "      <td>45.518764</td>\n",
       "      <td>avenue Rockland</td>\n",
       "      <td>NaN</td>\n",
       "      <td>Outremont</td>\n",
       "      <td>Constat d'infraction</td>\n",
       "    </tr>\n",
       "    <tr>\n",
       "      <th>4</th>\n",
       "      <td>2015-12-31T00:27:00</td>\n",
       "      <td>-73.580197</td>\n",
       "      <td>45.494309</td>\n",
       "      <td>rue Saint-Mathieu</td>\n",
       "      <td>NaN</td>\n",
       "      <td>Ville-Marie</td>\n",
       "      <td>2015-12-31T00:39:00</td>\n",
       "      <td>-73.579972</td>\n",
       "      <td>45.493133</td>\n",
       "      <td>rue Sainte-Catherine Ouest</td>\n",
       "      <td>NaN</td>\n",
       "      <td>Ville-Marie</td>\n",
       "      <td>Constat d'infraction</td>\n",
       "    </tr>\n",
       "  </tbody>\n",
       "</table>\n",
       "</div>"
      ],
      "text/plain": [
       "          DATE_ORIGINE  LONGITUDE_ORIGINE  LATITUDE_ORIGINE  \\\n",
       "0  2015-12-31T00:23:00         -73.587203         45.524981   \n",
       "1  2015-12-31T00:24:00         -73.622256         45.585753   \n",
       "2  2015-12-31T00:25:00         -73.600692         45.535027   \n",
       "3  2015-12-31T00:25:00         -73.620824         45.516675   \n",
       "4  2015-12-31T00:27:00         -73.580197         45.494309   \n",
       "\n",
       "                       RUE_ORIGINE  SECTEUR_ORIGINE  \\\n",
       "0                      rue Drolet               NaN   \n",
       "1  boulevard des Grandes-Prairies               NaN   \n",
       "2                rue Saint-Hubert               NaN   \n",
       "3                 avenue Ducharme               NaN   \n",
       "4               rue Saint-Mathieu               NaN   \n",
       "\n",
       "        ARRONDISSEMENT_ORIGINE     DATE_DESTINATION  LONGITUDE_DESTINATION  \\\n",
       "0           Plateau-Mont-Royal  2015-12-31T00:25:00             -73.586791   \n",
       "1                Saint-Léonard  2015-12-31T00:30:00             -73.621005   \n",
       "2  Rosemont - La Petite-Patrie  2015-12-31T00:32:00             -73.600881   \n",
       "3                    Outremont  2015-12-31T00:28:00             -73.621995   \n",
       "4                  Ville-Marie  2015-12-31T00:39:00             -73.579972   \n",
       "\n",
       "   LATITUDE_DESTINATION                  RUE_DESTINATION  SECTEUR_DESTINATION  \\\n",
       "0             45.525131                rue de Grand-Pré                   NaN   \n",
       "1             45.586975  boulevard des Grandes-Prairies                   NaN   \n",
       "2             45.535163                rue Saint-Hubert                   NaN   \n",
       "3             45.518764                 avenue Rockland                   NaN   \n",
       "4             45.493133      rue Sainte-Catherine Ouest                   NaN   \n",
       "\n",
       "    ARRONDISSEMENT_DESTINATION      MOTIF_REMORQUAGE  \n",
       "0           Plateau-Mont-Royal  Constat d'infraction  \n",
       "1                Saint-Léonard  Constat d'infraction  \n",
       "2  Rosemont - La Petite-Patrie  Constat d'infraction  \n",
       "3                    Outremont  Constat d'infraction  \n",
       "4                  Ville-Marie  Constat d'infraction  "
      ]
     },
     "execution_count": 5,
     "metadata": {},
     "output_type": "execute_result"
    }
   ],
   "source": [
    "df_remor = pd.read_csv(os.path.join(data_raw_dir, 'remorquages.csv'), header=0)\n",
    "df_remor.head()"
   ]
  },
  {
   "cell_type": "code",
   "execution_count": 6,
   "id": "located-stylus",
   "metadata": {},
   "outputs": [
    {
     "data": {
      "text/html": [
       "<div>\n",
       "<style scoped>\n",
       "    .dataframe tbody tr th:only-of-type {\n",
       "        vertical-align: middle;\n",
       "    }\n",
       "\n",
       "    .dataframe tbody tr th {\n",
       "        vertical-align: top;\n",
       "    }\n",
       "\n",
       "    .dataframe thead th {\n",
       "        text-align: right;\n",
       "    }\n",
       "</style>\n",
       "<table border=\"1\" class=\"dataframe\">\n",
       "  <thead>\n",
       "    <tr style=\"text-align: right;\">\n",
       "      <th></th>\n",
       "      <th>LONGITUDE_ORIGINE</th>\n",
       "      <th>LATITUDE_ORIGINE</th>\n",
       "      <th>LOC</th>\n",
       "    </tr>\n",
       "  </thead>\n",
       "  <tbody>\n",
       "    <tr>\n",
       "      <th>0</th>\n",
       "      <td>-73.5872</td>\n",
       "      <td>45.52498</td>\n",
       "      <td>45.52498,-73.5872</td>\n",
       "    </tr>\n",
       "    <tr>\n",
       "      <th>1</th>\n",
       "      <td>-73.62226</td>\n",
       "      <td>45.58575</td>\n",
       "      <td>45.58575,-73.62226</td>\n",
       "    </tr>\n",
       "    <tr>\n",
       "      <th>2</th>\n",
       "      <td>-73.60069</td>\n",
       "      <td>45.53503</td>\n",
       "      <td>45.53503,-73.60069</td>\n",
       "    </tr>\n",
       "    <tr>\n",
       "      <th>3</th>\n",
       "      <td>-73.62082</td>\n",
       "      <td>45.51668</td>\n",
       "      <td>45.51668,-73.62082</td>\n",
       "    </tr>\n",
       "    <tr>\n",
       "      <th>4</th>\n",
       "      <td>-73.5802</td>\n",
       "      <td>45.49431</td>\n",
       "      <td>45.49431,-73.5802</td>\n",
       "    </tr>\n",
       "    <tr>\n",
       "      <th>...</th>\n",
       "      <td>...</td>\n",
       "      <td>...</td>\n",
       "      <td>...</td>\n",
       "    </tr>\n",
       "    <tr>\n",
       "      <th>250072</th>\n",
       "      <td>-73.70518</td>\n",
       "      <td>45.5312</td>\n",
       "      <td>45.5312,-73.70518</td>\n",
       "    </tr>\n",
       "    <tr>\n",
       "      <th>250073</th>\n",
       "      <td>-73.65453</td>\n",
       "      <td>45.55993</td>\n",
       "      <td>45.55993,-73.65453</td>\n",
       "    </tr>\n",
       "    <tr>\n",
       "      <th>250074</th>\n",
       "      <td>-73.57954</td>\n",
       "      <td>45.49135</td>\n",
       "      <td>45.49135,-73.57954</td>\n",
       "    </tr>\n",
       "    <tr>\n",
       "      <th>250075</th>\n",
       "      <td>-73.59578</td>\n",
       "      <td>45.46153</td>\n",
       "      <td>45.46153,-73.59578</td>\n",
       "    </tr>\n",
       "    <tr>\n",
       "      <th>250076</th>\n",
       "      <td>-73.57946</td>\n",
       "      <td>45.4914</td>\n",
       "      <td>45.4914,-73.57946</td>\n",
       "    </tr>\n",
       "  </tbody>\n",
       "</table>\n",
       "<p>250077 rows × 3 columns</p>\n",
       "</div>"
      ],
      "text/plain": [
       "       LONGITUDE_ORIGINE LATITUDE_ORIGINE                 LOC\n",
       "0               -73.5872         45.52498   45.52498,-73.5872\n",
       "1              -73.62226         45.58575  45.58575,-73.62226\n",
       "2              -73.60069         45.53503  45.53503,-73.60069\n",
       "3              -73.62082         45.51668  45.51668,-73.62082\n",
       "4               -73.5802         45.49431   45.49431,-73.5802\n",
       "...                  ...              ...                 ...\n",
       "250072         -73.70518          45.5312   45.5312,-73.70518\n",
       "250073         -73.65453         45.55993  45.55993,-73.65453\n",
       "250074         -73.57954         45.49135  45.49135,-73.57954\n",
       "250075         -73.59578         45.46153  45.46153,-73.59578\n",
       "250076         -73.57946          45.4914   45.4914,-73.57946\n",
       "\n",
       "[250077 rows x 3 columns]"
      ]
     },
     "execution_count": 6,
     "metadata": {},
     "output_type": "execute_result"
    }
   ],
   "source": [
    "df_remor = df_remor[['LONGITUDE_ORIGINE', 'LATITUDE_ORIGINE']]\n",
    "df_remor = df_remor.round(5)\n",
    "df_remor['LONGITUDE_ORIGINE'] = df_remor['LONGITUDE_ORIGINE'].astype(str)\n",
    "df_remor['LATITUDE_ORIGINE'] = df_remor['LATITUDE_ORIGINE'].astype(str)\n",
    "df_remor['LOC'] = df_remor['LATITUDE_ORIGINE']+','+df_remor['LONGITUDE_ORIGINE']\n",
    "df_remor"
   ]
  },
  {
   "cell_type": "code",
   "execution_count": 7,
   "id": "married-conservative",
   "metadata": {},
   "outputs": [],
   "source": [
    "spot = set(df_spots['LOC'].tolist())\n",
    "tow = set(df_remor['LOC'].tolist())"
   ]
  },
  {
   "cell_type": "code",
   "execution_count": 8,
   "id": "sporting-fairy",
   "metadata": {},
   "outputs": [
    {
     "data": {
      "text/plain": [
       "(11723, 242730)"
      ]
     },
     "execution_count": 8,
     "metadata": {},
     "output_type": "execute_result"
    }
   ],
   "source": [
    "len(spot), len(tow)"
   ]
  },
  {
   "cell_type": "code",
   "execution_count": 9,
   "id": "documented-mortgage",
   "metadata": {},
   "outputs": [
    {
     "data": {
      "text/plain": [
       "{'45.46228,-73.56698',\n",
       " '45.46483,-73.56633',\n",
       " '45.48654,-73.56965',\n",
       " '45.49749,-73.57553',\n",
       " '45.49877,-73.57424',\n",
       " '45.4989,-73.55845',\n",
       " '45.50007,-73.63133',\n",
       " '45.50361,-73.55754',\n",
       " '45.50532,-73.57152',\n",
       " '45.50943,-73.56178',\n",
       " '45.51457,-73.56558',\n",
       " '45.52009,-73.55507',\n",
       " '45.52121,-73.59457',\n",
       " '45.52247,-73.5778',\n",
       " '45.52309,-73.61269',\n",
       " '45.5265,-73.59806',\n",
       " '45.54366,-73.54602'}"
      ]
     },
     "execution_count": 9,
     "metadata": {},
     "output_type": "execute_result"
    }
   ],
   "source": [
    "spot.intersection(tow)"
   ]
  },
  {
   "cell_type": "code",
   "execution_count": 10,
   "id": "after-consequence",
   "metadata": {},
   "outputs": [
    {
     "data": {
      "text/plain": [
       "{'45.46228,-73.56698',\n",
       " '45.46483,-73.56633',\n",
       " '45.48654,-73.56965',\n",
       " '45.49749,-73.57553',\n",
       " '45.49877,-73.57424',\n",
       " '45.4989,-73.55845',\n",
       " '45.50007,-73.63133',\n",
       " '45.50361,-73.55754',\n",
       " '45.50532,-73.57152',\n",
       " '45.50943,-73.56178',\n",
       " '45.51457,-73.56558',\n",
       " '45.52009,-73.55507',\n",
       " '45.52121,-73.59457',\n",
       " '45.52247,-73.5778',\n",
       " '45.52309,-73.61269',\n",
       " '45.5265,-73.59806',\n",
       " '45.54366,-73.54602'}"
      ]
     },
     "execution_count": 10,
     "metadata": {},
     "output_type": "execute_result"
    }
   ],
   "source": [
    "tow.intersection(spot)"
   ]
  },
  {
   "cell_type": "code",
   "execution_count": 12,
   "id": "adverse-discharge",
   "metadata": {},
   "outputs": [],
   "source": [
    "df_spots['nLongitude'] = df_spots['nLongitude'].astype('float64')\n",
    "df_spots['nLatitude'] = df_spots['nLatitude'].astype('float64')\n",
    "df_remor['LONGITUDE_ORIGINE'] = df_remor['LONGITUDE_ORIGINE'].astype('float64')\n",
    "df_remor['LATITUDE_ORIGINE'] = df_remor['LATITUDE_ORIGINE'].astype('float64')"
   ]
  },
  {
   "cell_type": "code",
   "execution_count": 18,
   "id": "three-audit",
   "metadata": {},
   "outputs": [
    {
     "data": {
      "text/plain": [
       "(-73.76163, -73.86806)"
      ]
     },
     "execution_count": 18,
     "metadata": {},
     "output_type": "execute_result"
    }
   ],
   "source": [
    "min(df_spots['nLongitude']), min(df_remor['LONGITUDE_ORIGINE'])"
   ]
  },
  {
   "cell_type": "code",
   "execution_count": 19,
   "id": "contrary-depression",
   "metadata": {},
   "outputs": [
    {
     "data": {
      "text/plain": [
       "(-73.52986, -73.48005)"
      ]
     },
     "execution_count": 19,
     "metadata": {},
     "output_type": "execute_result"
    }
   ],
   "source": [
    "max(df_spots['nLongitude']), max(df_remor['LONGITUDE_ORIGINE'])"
   ]
  },
  {
   "cell_type": "code",
   "execution_count": 20,
   "id": "indonesian-license",
   "metadata": {},
   "outputs": [
    {
     "data": {
      "text/plain": [
       "(45.42943, 45.41524)"
      ]
     },
     "execution_count": 20,
     "metadata": {},
     "output_type": "execute_result"
    }
   ],
   "source": [
    "min(df_spots['nLatitude']), min(df_remor['LATITUDE_ORIGINE'])"
   ]
  },
  {
   "cell_type": "code",
   "execution_count": 21,
   "id": "happy-ribbon",
   "metadata": {},
   "outputs": [
    {
     "data": {
      "text/plain": [
       "(45.56084, 45.70145)"
      ]
     },
     "execution_count": 21,
     "metadata": {},
     "output_type": "execute_result"
    }
   ],
   "source": [
    "max(df_spots['nLatitude']), max(df_remor['LATITUDE_ORIGINE'])"
   ]
  },
  {
   "cell_type": "code",
   "execution_count": 23,
   "id": "necessary-investing",
   "metadata": {},
   "outputs": [],
   "source": [
    "x = np.arange(45.41524, 45.70145, 0.00001, dtype='float64')"
   ]
  },
  {
   "cell_type": "code",
   "execution_count": 24,
   "id": "breeding-rabbit",
   "metadata": {},
   "outputs": [],
   "source": [
    "y = np.arange(-73.86806, -73.48005, 0.00001, dtype='float64')"
   ]
  },
  {
   "cell_type": "code",
   "execution_count": 26,
   "id": "republican-kernel",
   "metadata": {},
   "outputs": [
    {
     "data": {
      "text/plain": [
       "(array([45.41524, 45.41525, 45.41526, ..., 45.70143, 45.70144, 45.70145]),\n",
       " 38801)"
      ]
     },
     "execution_count": 26,
     "metadata": {},
     "output_type": "execute_result"
    }
   ],
   "source": [
    "x, len(y)"
   ]
  },
  {
   "cell_type": "code",
   "execution_count": 28,
   "id": "enclosed-thomas",
   "metadata": {},
   "outputs": [
    {
     "data": {
      "text/plain": [
       "[array([45.41524, 45.41525, 45.41526, ..., 45.70143, 45.70144, 45.70145]),\n",
       " array([-73.86806, -73.86805, -73.86804, ..., -73.48008, -73.48007,\n",
       "        -73.48006])]"
      ]
     },
     "execution_count": 28,
     "metadata": {},
     "output_type": "execute_result"
    }
   ],
   "source": [
    "matrix = [x, y]\n",
    "matrix"
   ]
  },
  {
   "cell_type": "code",
   "execution_count": 34,
   "id": "useful-smith",
   "metadata": {},
   "outputs": [
    {
     "data": {
      "text/plain": [
       "45.41524"
      ]
     },
     "execution_count": 34,
     "metadata": {},
     "output_type": "execute_result"
    }
   ],
   "source": [
    "matrix[0][0]"
   ]
  },
  {
   "cell_type": "code",
   "execution_count": 36,
   "id": "fifteen-liabilities",
   "metadata": {},
   "outputs": [
    {
     "ename": "IndexError",
     "evalue": "arrays used as indices must be of integer (or boolean) type",
     "output_type": "error",
     "traceback": [
      "\u001b[0;31m---------------------------------------------------------------------------\u001b[0m",
      "\u001b[0;31mIndexError\u001b[0m                                Traceback (most recent call last)",
      "\u001b[0;32m<ipython-input-36-75e742718e04>\u001b[0m in \u001b[0;36m<module>\u001b[0;34m\u001b[0m\n\u001b[0;32m----> 1\u001b[0;31m \u001b[0mx_indexed\u001b[0m \u001b[0;34m=\u001b[0m \u001b[0mx\u001b[0m\u001b[0;34m[\u001b[0m\u001b[0mnp\u001b[0m\u001b[0;34m.\u001b[0m\u001b[0mix_\u001b[0m\u001b[0;34m(\u001b[0m\u001b[0mx\u001b[0m\u001b[0;34m,\u001b[0m\u001b[0my\u001b[0m\u001b[0;34m)\u001b[0m\u001b[0;34m]\u001b[0m\u001b[0;34m\u001b[0m\u001b[0;34m\u001b[0m\u001b[0m\n\u001b[0m",
      "\u001b[0;31mIndexError\u001b[0m: arrays used as indices must be of integer (or boolean) type"
     ]
    }
   ],
   "source": [
    "x_indexed = x[np.ix_(x,y)]"
   ]
  },
  {
   "cell_type": "code",
   "execution_count": null,
   "id": "sorted-atlantic",
   "metadata": {},
   "outputs": [],
   "source": []
  }
 ],
 "metadata": {
  "kernelspec": {
   "display_name": "Python 3",
   "language": "python",
   "name": "python3"
  },
  "language_info": {
   "codemirror_mode": {
    "name": "ipython",
    "version": 3
   },
   "file_extension": ".py",
   "mimetype": "text/x-python",
   "name": "python",
   "nbconvert_exporter": "python",
   "pygments_lexer": "ipython3",
   "version": "3.6.12"
  }
 },
 "nbformat": 4,
 "nbformat_minor": 5
}
