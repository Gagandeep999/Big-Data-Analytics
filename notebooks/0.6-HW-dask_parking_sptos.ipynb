{
 "cells": [
  {
   "cell_type": "code",
   "execution_count": null,
   "metadata": {
    "pycharm": {
     "name": "#%%\n"
    },
    "tags": []
   },
   "outputs": [],
   "source": [
    "import os\n",
    "import numpy as np\n",
    "from dask import persist\n",
    "import dask.dataframe as df\n",
    "from operator import add\n",
    "from dask.distributed import Client\n",
    "import matplotlib.pyplot as plt\n",
    "from functools import reduce\n",
    "import geopandas as gpd\n",
    "\n",
    "head, tail = os.path.split(os.getcwd())\n",
    "data_dir = os.path.join(head, 'data')\n",
    "data_raw_dir = os.path.join(data_dir, 'raw')\n",
    "data_interim_dir = os.path.join(data_dir, 'interim')"
   ]
  },
  {
   "cell_type": "code",
   "execution_count": null,
   "metadata": {},
   "outputs": [],
   "source": [
    "from dask.distributed import Client\n",
    "\n",
    "client = Client() # \"tcp://127.0.0.1:58293\"\n",
    "client"
   ]
  },
  {
   "cell_type": "code",
   "execution_count": null,
   "metadata": {},
   "outputs": [],
   "source": []
  },
  {
   "cell_type": "markdown",
   "metadata": {},
   "source": [
    "# Loading data"
   ]
  },
  {
   "cell_type": "code",
   "execution_count": null,
   "metadata": {
    "collapsed": false,
    "jupyter": {
     "outputs_hidden": false
    },
    "pycharm": {
     "name": "#%%\n"
    }
   },
   "outputs": [],
   "source": [
    "park_spot_data = df.read_csv(os.path.join(data_interim_dir, 'spots_with_cities.csv'), \n",
    "                             encoding='cp1252', blocksize='512KiB')[['sNoPlace','nPositionCentreLongitude','nPositionCentreLatitude']]\n",
    "\n",
    "list_of_borough =['Plateau-Mont-Royal',\n",
    "                  'Saint-Léonard',\n",
    "                  'Rosemont - La Petite-Patrie',\n",
    "                  'Outremont',\n",
    "                  'Ville-Marie',\n",
    "                  'Mercier - Hochelaga-Maisonneuve',\n",
    "                  'LaSalle',\n",
    "                  'Villeray - Saint-Michel - Parc-Extension',\n",
    "                  'Rivière-des-Prairies - Pointe-aux-Trembles',\n",
    "                  'Côte-des-Neiges - Notre-Dame-de-Grâce',\n",
    "                  'Lachine',\n",
    "                  'Saint-Laurent',\n",
    "                  'Ahuntsic - Cartierville',\n",
    "                  'Sud-Ouest',\n",
    "                  'Anjou',\n",
    "                  'Montréal-Nord',\n",
    "                  'Verdun',\n",
    "                  'Pierrefonds - Roxboro']\n"
   ]
  },
  {
   "cell_type": "markdown",
   "metadata": {},
   "source": [
    "# Initializing centroids randomly"
   ]
  },
  {
   "cell_type": "code",
   "execution_count": null,
   "metadata": {},
   "outputs": [],
   "source": [
    "init_centroids = park_spot_data.sample(frac=0.002).head(len(list_of_borough),npartitions=-1)"
   ]
  },
  {
   "cell_type": "code",
   "execution_count": null,
   "metadata": {},
   "outputs": [],
   "source": [
    "centroids = init_centroids.reset_index(drop=True).rename(columns={'sNoPlace':'name'})"
   ]
  },
  {
   "cell_type": "code",
   "execution_count": null,
   "metadata": {},
   "outputs": [],
   "source": [
    "park_spot_data['centroids']=''\n",
    "epoch=0"
   ]
  },
  {
   "cell_type": "code",
   "execution_count": null,
   "metadata": {},
   "outputs": [],
   "source": [
    "def assignCentroid(row, centroids):\n",
    "    c = reduce((lambda a,b: a if a[1]<b[1] else b),[(centroids.name,\\\n",
    "        (row.nPositionCentreLongitude-centroids.nPositionCentreLongitude)**2 + (row.nPositionCentreLatitude-centroids.nPositionCentreLatitude)**2) \\\n",
    "            for centroids in centroids.itertuples()]) \n",
    "    return  c[0]"
   ]
  },
  {
   "cell_type": "markdown",
   "metadata": {},
   "source": [
    "# Fitting loop"
   ]
  },
  {
   "cell_type": "code",
   "execution_count": null,
   "metadata": {},
   "outputs": [],
   "source": [
    "while True:\n",
    "    epoch+=1\n",
    "    park_spot_data['new_centroids'] = park_spot_data.apply(assignCentroid, axis=1, args=(centroids,), meta=('centroid', 'f8'))\n",
    "    park_spot_data = park_spot_data.persist()\n",
    "    spot_changed_number =len(park_spot_data[park_spot_data['centroids']!=park_spot_data['new_centroids']])\n",
    "    print('Epoch ',epoch,':',spot_changed_number)\n",
    "    if spot_changed_number==0:\n",
    "        break\n",
    "    centroids = park_spot_data[['nPositionCentreLongitude','nPositionCentreLatitude','new_centroids']].groupby('new_centroids').mean().reset_index().rename(columns={'new_centroids':'name'})\n",
    "    centroids = centroids.persist()\n",
    "    park_spot_data['centroids']=park_spot_data['new_centroids']\n",
    "    "
   ]
  },
  {
   "cell_type": "markdown",
   "metadata": {},
   "source": [
    "# Plotting the result"
   ]
  },
  {
   "cell_type": "code",
   "execution_count": null,
   "metadata": {},
   "outputs": [],
   "source": [
    "# groups = park_spot_data.groupby('centroids')\n",
    "# groups.head()\n",
    "# for name, group in groups:\n",
    "#     plt.plot(group.nLongitude, group.nLatitude, marker='.', linestyle='',  label=name)\n"
   ]
  },
  {
   "cell_type": "code",
   "execution_count": null,
   "metadata": {},
   "outputs": [],
   "source": [
    "parking_spots = park_spot_data.compute()"
   ]
  },
  {
   "cell_type": "code",
   "execution_count": null,
   "metadata": {},
   "outputs": [],
   "source": [
    "parking_spots.head()"
   ]
  },
  {
   "cell_type": "code",
   "execution_count": null,
   "metadata": {},
   "outputs": [],
   "source": [
    "parking_spots_geo = gpd.GeoDataFrame(parking_spots, geometry=gpd.points_from_xy(parking_spots.nLongitude, parking_spots.nLatitude))\n",
    "parking_spots_geo"
   ]
  },
  {
   "cell_type": "code",
   "execution_count": null,
   "metadata": {},
   "outputs": [],
   "source": [
    "boroughs = gpd.read_file(os.path.join(data_raw_dir, 'montreal_boroughs.geojson'))"
   ]
  },
  {
   "cell_type": "code",
   "execution_count": null,
   "metadata": {},
   "outputs": [],
   "source": [
    "fig, ax = plt.subplots(1, figsize=(8, 4))\n",
    "boroughs.plot(ax=ax)\n",
    "parking_spots_geo.plot(ax=ax, marker='o', cmap = \"hsv\", alpha=0.075, label='centroids')\n",
    "plt.title('Towing in the year')\n",
    "# plt.savefig(os.path.join(RPT_FIGURES_DIR, output_filename))"
   ]
  },
  {
   "cell_type": "code",
   "execution_count": null,
   "metadata": {},
   "outputs": [],
   "source": [
    "\n",
    "\n",
    "parking_spots_geo['centroids'].unique()"
   ]
  },
  {
   "cell_type": "code",
   "execution_count": null,
   "metadata": {},
   "outputs": [],
   "source": []
  }
 ],
 "metadata": {
  "kernelspec": {
   "name": "python3612jvsc74a57bd0393438f6c0bca4a2b0b9b28a96f5952f2521bd7399947aa24a0a5b669f83e1d6",
   "display_name": "Python 3.6.12 64-bit ('bigdata': conda)"
  },
  "language_info": {
   "codemirror_mode": {
    "name": "ipython",
    "version": 3
   },
   "file_extension": ".py",
   "mimetype": "text/x-python",
   "name": "python",
   "nbconvert_exporter": "python",
   "pygments_lexer": "ipython3",
   "version": "3.6.12-final"
  }
 },
 "nbformat": 4,
 "nbformat_minor": 4
}