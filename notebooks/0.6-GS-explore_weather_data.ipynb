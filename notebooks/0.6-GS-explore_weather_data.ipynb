{
 "metadata": {
  "language_info": {
   "codemirror_mode": {
    "name": "ipython",
    "version": 3
   },
   "file_extension": ".py",
   "mimetype": "text/x-python",
   "name": "python",
   "nbconvert_exporter": "python",
   "pygments_lexer": "ipython3",
   "version": "3.6.12-final"
  },
  "orig_nbformat": 2,
  "kernelspec": {
   "name": "python3612jvsc74a57bd0393438f6c0bca4a2b0b9b28a96f5952f2521bd7399947aa24a0a5b669f83e1d6",
   "display_name": "Python 3.6.12 64-bit ('bigdata': conda)"
  }
 },
 "nbformat": 4,
 "nbformat_minor": 2,
 "cells": [
  {
   "cell_type": "code",
   "execution_count": 1,
   "metadata": {},
   "outputs": [],
   "source": [
    "import os\n",
    "from pyspark.rdd import RDD\n",
    "from pyspark.sql import DataFrame\n",
    "from pyspark.sql import SparkSession\n",
    "from pyspark.sql.functions import desc\n",
    "from pyspark.sql import functions as F"
   ]
  },
  {
   "cell_type": "code",
   "execution_count": 2,
   "metadata": {},
   "outputs": [
    {
     "output_type": "execute_result",
     "data": {
      "text/plain": [
       "'/Users/Gagandeep/Desktop/Concordia/12 Winter 2021/SOEN 471/NoToW/data/raw'"
      ]
     },
     "metadata": {},
     "execution_count": 2
    }
   ],
   "source": [
    "head, tail = os.path.split(os.getcwd())\n",
    "data_dir = os.path.join(head, 'data')\n",
    "data_raw_dir = os.path.join(data_dir, 'raw')\n",
    "DATA_INTERIM_DIR = os.path.join(data_dir, 'interim')\n",
    "data_raw_dir"
   ]
  },
  {
   "cell_type": "code",
   "execution_count": 3,
   "metadata": {},
   "outputs": [],
   "source": [
    "def init_spark():\n",
    "    spark = SparkSession \\\n",
    "        .builder \\\n",
    "        .appName(\"Python Spark SQL basic example\") \\\n",
    "        .config(\"spark.some.config.option\", \"some-value\") \\\n",
    "        .getOrCreate()\n",
    "    return spark"
   ]
  },
  {
   "cell_type": "code",
   "execution_count": null,
   "metadata": {},
   "outputs": [],
   "source": [
    "spark = init_spark()\n",
    "data_weather = spark.read.csv(os.path.join(data_raw_dir, 'en_climate_daily_QC_702S006_2015_P1D.csv'), header=True)\n",
    " \n",
    "data_weather.schema.names"
   ]
  },
  {
   "cell_type": "code",
   "execution_count": null,
   "metadata": {},
   "outputs": [],
   "source": [
    "with open('schema.txt', 'w') as f:\n",
    "    for col in data_weather.schema.names:\n",
    "        print(col, file=f)"
   ]
  },
  {
   "cell_type": "code",
   "execution_count": 4,
   "metadata": {},
   "outputs": [],
   "source": [
    "# data_towing = spark.read.csv(os.path.join(data_raw_dir, 'remorquages.csv'), header=True)\n",
    "# data_towing = data_towing.withColumn('DATE_ORIGINE', F.concat(data_towing.DATE_ORIGINE.substr(0,10)))\n",
    "spark = init_spark()\n",
    "data_towing = spark.read.parquet(os.path.join(DATA_INTERIM_DIR, 'towing_needed.data'))\n",
    "data_weather = spark.read.parquet(os.path.join(DATA_INTERIM_DIR, 'weather_needed.data'))"
   ]
  },
  {
   "cell_type": "code",
   "execution_count": 5,
   "metadata": {},
   "outputs": [
    {
     "output_type": "execute_result",
     "data": {
      "text/plain": [
       "[Row(DATE_ORIGINE='2019-01-10', LONGITUDE_ORIGINE='-73.60370215594651', LATITUDE_ORIGINE='45.5590991399067', Distance_km=0.0484305337462778, MOTIF_REMORQUAGE=\"Constat d'infraction\"),\n",
       " Row(DATE_ORIGINE='2019-01-10', LONGITUDE_ORIGINE='-73.599733540326', LATITUDE_ORIGINE='45.453884709812606', Distance_km=0.07233637828159714, MOTIF_REMORQUAGE=\"Constat d'infraction\")]"
      ]
     },
     "metadata": {},
     "execution_count": 5
    }
   ],
   "source": [
    "data_towing.head(2)"
   ]
  },
  {
   "cell_type": "code",
   "execution_count": 7,
   "metadata": {},
   "outputs": [
    {
     "output_type": "execute_result",
     "data": {
      "text/plain": [
       "[Row(Date_Time='2015-01-01', Year='2015', Month='01', Day='01', Mean_Temp='-5.2', Total_Rain=None, Total_Precip='0.3', Total_Snow=None, Spd_of_Max_Gust='54'),\n",
       " Row(Date_Time='2015-01-02', Year='2015', Month='01', Day='02', Mean_Temp='-9.7', Total_Rain=None, Total_Precip='0.2', Total_Snow=None, Spd_of_Max_Gust='48')]"
      ]
     },
     "metadata": {},
     "execution_count": 7
    }
   ],
   "source": [
    "data_weather.head(2)"
   ]
  },
  {
   "cell_type": "code",
   "execution_count": 8,
   "metadata": {},
   "outputs": [
    {
     "output_type": "execute_result",
     "data": {
      "text/plain": [
       "[Row(DATE_ORIGINE='2015-12-31', LONGITUDE_ORIGINE='-73.5872033592732', LATITUDE_ORIGINE='45.524980545696', Distance_km=0.055999886340502104, MOTIF_REMORQUAGE=\"Constat d'infraction\", Date_Time='2015-12-31', Year='2015', Month='12', Day='31', Mean_Temp='-2.7', Total_Rain=None, Total_Precip='0.7', Total_Snow=None, Spd_of_Max_Gust='41'),\n",
       " Row(DATE_ORIGINE='2015-12-31', LONGITUDE_ORIGINE='-73.6222559028091', LATITUDE_ORIGINE='45.585753168523894', Distance_km=0.1698879856139788, MOTIF_REMORQUAGE=\"Constat d'infraction\", Date_Time='2015-12-31', Year='2015', Month='12', Day='31', Mean_Temp='-2.7', Total_Rain=None, Total_Precip='0.7', Total_Snow=None, Spd_of_Max_Gust='41'),\n",
       " Row(DATE_ORIGINE='2015-12-31', LONGITUDE_ORIGINE='-73.6006920362305', LATITUDE_ORIGINE='45.535027243957394', Distance_km=0.02567542243235302, MOTIF_REMORQUAGE=\"Constat d'infraction\", Date_Time='2015-12-31', Year='2015', Month='12', Day='31', Mean_Temp='-2.7', Total_Rain=None, Total_Precip='0.7', Total_Snow=None, Spd_of_Max_Gust='41'),\n",
       " Row(DATE_ORIGINE='2015-12-31', LONGITUDE_ORIGINE='-73.62082401523371', LATITUDE_ORIGINE='45.516675179245205', Distance_km=0.15906557461075038, MOTIF_REMORQUAGE=\"Constat d'infraction\", Date_Time='2015-12-31', Year='2015', Month='12', Day='31', Mean_Temp='-2.7', Total_Rain=None, Total_Precip='0.7', Total_Snow=None, Spd_of_Max_Gust='41'),\n",
       " Row(DATE_ORIGINE='2015-12-31', LONGITUDE_ORIGINE='-73.580197299593', LATITUDE_ORIGINE='45.494309309111', Distance_km=0.03066431955686779, MOTIF_REMORQUAGE=\"Constat d'infraction\", Date_Time='2015-12-31', Year='2015', Month='12', Day='31', Mean_Temp='-2.7', Total_Rain=None, Total_Precip='0.7', Total_Snow=None, Spd_of_Max_Gust='41')]"
      ]
     },
     "metadata": {},
     "execution_count": 8
    }
   ],
   "source": [
    "joined_data = data_towing.join(data_weather, data_towing.DATE_ORIGINE==data_weather.Date_Time)\n",
    "joined_data.head(5)"
   ]
  },
  {
   "cell_type": "code",
   "execution_count": 9,
   "metadata": {},
   "outputs": [
    {
     "output_type": "execute_result",
     "data": {
      "text/plain": [
       "Row(max(Year)='2015')"
      ]
     },
     "metadata": {},
     "execution_count": 9
    }
   ],
   "source": [
    "joined_data.agg({'Year': 'max'}).collect()[0]"
   ]
  }
 ]
}