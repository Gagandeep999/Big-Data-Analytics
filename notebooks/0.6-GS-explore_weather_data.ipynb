{
 "metadata": {
  "language_info": {
   "codemirror_mode": {
    "name": "ipython",
    "version": 3
   },
   "file_extension": ".py",
   "mimetype": "text/x-python",
   "name": "python",
   "nbconvert_exporter": "python",
   "pygments_lexer": "ipython3",
   "version": "3.6.12-final"
  },
  "orig_nbformat": 2,
  "kernelspec": {
   "name": "python3",
   "display_name": "Python 3.6.12 64-bit ('bigdata': conda)",
   "metadata": {
    "interpreter": {
     "hash": "393438f6c0bca4a2b0b9b28a96f5952f2521bd7399947aa24a0a5b669f83e1d6"
    }
   }
  }
 },
 "nbformat": 4,
 "nbformat_minor": 2,
 "cells": [
  {
   "cell_type": "code",
   "execution_count": 1,
   "metadata": {},
   "outputs": [],
   "source": [
    "import os\n",
    "from pyspark.rdd import RDD\n",
    "from pyspark.sql import DataFrame\n",
    "from pyspark.sql import SparkSession\n",
    "from pyspark.sql.functions import desc\n",
    "from pyspark.sql import functions as F"
   ]
  },
  {
   "cell_type": "code",
   "execution_count": 2,
   "metadata": {},
   "outputs": [
    {
     "output_type": "execute_result",
     "data": {
      "text/plain": [
       "'/Users/Gagandeep/Desktop/Concordia/12 Winter 2021/SOEN 471/NoToW/data/raw'"
      ]
     },
     "metadata": {},
     "execution_count": 2
    }
   ],
   "source": [
    "head, tail = os.path.split(os.getcwd())\n",
    "data_dir = os.path.join(head, 'data')\n",
    "data_raw_dir = os.path.join(data_dir, 'raw')\n",
    "DATA_INTERIM_DIR = os.path.join(data_dir, 'interim')\n",
    "data_raw_dir"
   ]
  },
  {
   "cell_type": "code",
   "execution_count": 3,
   "metadata": {},
   "outputs": [],
   "source": [
    "def init_spark():\n",
    "    spark = SparkSession \\\n",
    "        .builder \\\n",
    "        .appName(\"Python Spark SQL basic example\") \\\n",
    "        .config(\"spark.some.config.option\", \"some-value\") \\\n",
    "        .getOrCreate()\n",
    "    return spark"
   ]
  },
  {
   "cell_type": "code",
   "execution_count": null,
   "metadata": {},
   "outputs": [],
   "source": [
    "spark = init_spark()\n",
    "data_weather = spark.read.csv(os.path.join(data_raw_dir, 'en_climate_daily_QC_702S006_2015_P1D.csv'), header=True)\n",
    " \n",
    "data_weather.schema.names"
   ]
  },
  {
   "cell_type": "code",
   "execution_count": null,
   "metadata": {},
   "outputs": [],
   "source": [
    "with open('schema.txt', 'w') as f:\n",
    "    for col in data_weather.schema.names:\n",
    "        print(col, file=f)"
   ]
  },
  {
   "cell_type": "code",
   "execution_count": 4,
   "metadata": {},
   "outputs": [],
   "source": [
    "# data_towing = spark.read.csv(os.path.join(data_raw_dir, 'remorquages.csv'), header=True)\n",
    "# data_towing = data_towing.withColumn('DATE_ORIGINE', F.concat(data_towing.DATE_ORIGINE.substr(0,10)))\n",
    "spark = init_spark()\n",
    "data_towing = spark.read.parquet(os.path.join(DATA_INTERIM_DIR, 'towing.data'))\n",
    "data_weather = spark.read.parquet(os.path.join(DATA_INTERIM_DIR, 'weather.data'))"
   ]
  },
  {
   "cell_type": "code",
   "execution_count": 5,
   "metadata": {},
   "outputs": [
    {
     "output_type": "execute_result",
     "data": {
      "text/plain": [
       "[Row(DATE_ORIGINE='2019-01-10', LONGITUDE_ORIGINE='-73.60370215594651', LATITUDE_ORIGINE='45.5590991399067', Distance_km=0.0484305337462778, MOTIF_REMORQUAGE=\"Constat d'infraction\"),\n",
       " Row(DATE_ORIGINE='2019-01-10', LONGITUDE_ORIGINE='-73.599733540326', LATITUDE_ORIGINE='45.453884709812606', Distance_km=0.07233637828159714, MOTIF_REMORQUAGE=\"Constat d'infraction\")]"
      ]
     },
     "metadata": {},
     "execution_count": 5
    }
   ],
   "source": [
    "data_towing.head(2)"
   ]
  },
  {
   "cell_type": "code",
   "execution_count": 6,
   "metadata": {},
   "outputs": [
    {
     "output_type": "execute_result",
     "data": {
      "text/plain": [
       "[Row(Longitude='-73.74', Latitude='45.47', Station_Name='MONTREAL/PIERRE ELLIOTT TRUDEAU INTL', Climate_ID='702S006', Date_Time='2015-01-01', Year='2015', Month='01', Day='01', Data_Quality=None, Max_Temp='-2.9', Max_Temp_Flag=None, Min_Temp='-7.4', Min_Temp_Flag=None, Mean_Temp='-5.2', Mean_Temp_Flag=None, Heat_Deg_Days='23.2', Heat_Deg_Days_Flag=None, Cool_Deg_Days='0.0', Cool_Deg_Days_Flag=None, Total_Rain=None, Total_Rain_Flag='M', Total_Snow=None, Total_Snow_Flag='M', Total_Precip='0.3', Total_Precip_Flag=None, Snow_on_Grnd=None, Snow_on_Grnd_Flag=None, Dir_of_Max_Gust='21', Dir_of_Max_Gust_Flag=None, Spd_of_Max_Gust='54', Spd_of_Max_Gust_Flag=None),\n",
       " Row(Longitude='-73.74', Latitude='45.47', Station_Name='MONTREAL/PIERRE ELLIOTT TRUDEAU INTL', Climate_ID='702S006', Date_Time='2015-01-02', Year='2015', Month='01', Day='02', Data_Quality=None, Max_Temp='-3.3', Max_Temp_Flag=None, Min_Temp='-16.0', Min_Temp_Flag=None, Mean_Temp='-9.7', Mean_Temp_Flag=None, Heat_Deg_Days='27.7', Heat_Deg_Days_Flag=None, Cool_Deg_Days='0.0', Cool_Deg_Days_Flag=None, Total_Rain=None, Total_Rain_Flag='M', Total_Snow=None, Total_Snow_Flag='M', Total_Precip='0.2', Total_Precip_Flag=None, Snow_on_Grnd=None, Snow_on_Grnd_Flag=None, Dir_of_Max_Gust='29', Dir_of_Max_Gust_Flag=None, Spd_of_Max_Gust='48', Spd_of_Max_Gust_Flag=None)]"
      ]
     },
     "metadata": {},
     "execution_count": 6
    }
   ],
   "source": [
    "data_weather.head(2)"
   ]
  },
  {
   "cell_type": "code",
   "execution_count": null,
   "metadata": {},
   "outputs": [],
   "source": [
    "joined_data = data_towing.join(data_weather, data_towing.DATE_ORIGINE==data_weather.DateTime)\n",
    "joined_data.head(1)"
   ]
  },
  {
   "cell_type": "code",
   "execution_count": null,
   "metadata": {},
   "outputs": [],
   "source": [
    "df_final = joined_data.select('DATE_ORIGINE', 'LONGITUDE_ORIGINE', 'LATITUDE_ORIGINE', 'Mean Temp (°C)', 'Total Precip (mm)', 'Snow on Grnd (cm)')"
   ]
  }
 ]
}