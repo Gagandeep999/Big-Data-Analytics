{
 "cells": [
  {
   "cell_type": "code",
   "execution_count": 1,
   "id": "heard-agriculture",
   "metadata": {},
   "outputs": [],
   "source": [
    "import os\n",
    "import sys\n",
    "import pandas as pd\n",
    "import numpy as np\n",
    "from sklearn.neighbors import DistanceMetric\n",
    "import math\n",
    "from math import sin, cos, sqrt, atan2, radians"
   ]
  },
  {
   "cell_type": "code",
   "execution_count": 2,
   "id": "continent-platform",
   "metadata": {},
   "outputs": [
    {
     "output_type": "execute_result",
     "data": {
      "text/plain": [
       "('/Users/Gagandeep/Desktop/Concordia/12 Winter 2021/SOEN 471/NoToW',\n",
       " 'notebooks')"
      ]
     },
     "metadata": {},
     "execution_count": 2
    }
   ],
   "source": [
    "head, tail = os.path.split(os.getcwd())\n",
    "head, tail"
   ]
  },
  {
   "cell_type": "code",
   "execution_count": 3,
   "id": "indian-throat",
   "metadata": {},
   "outputs": [
    {
     "output_type": "execute_result",
     "data": {
      "text/plain": [
       "'/Users/Gagandeep/Desktop/Concordia/12 Winter 2021/SOEN 471/NoToW/data/raw'"
      ]
     },
     "metadata": {},
     "execution_count": 3
    }
   ],
   "source": [
    "head, tail = os.path.split(os.getcwd())\n",
    "data_dir = os.path.join(head, 'data')\n",
    "data_raw_dir = os.path.join(data_dir, 'raw')\n",
    "data_raw_dir"
   ]
  },
  {
   "cell_type": "code",
   "execution_count": 4,
   "id": "going-surname",
   "metadata": {},
   "outputs": [
    {
     "output_type": "execute_result",
     "data": {
      "text/plain": [
       "['en_climate_daily_QC_702S006_2017_P1D.csv',\n",
       " 'Periodes.csv',\n",
       " 'remorquages.csv',\n",
       " 'en_climate_daily_QC_702S006_2020_P1D.csv',\n",
       " 'en_climate_daily_QC_702S006_2016_P1D.csv',\n",
       " 'montreal_boroughs.geojson',\n",
       " 'headers.txt',\n",
       " '.gitkeep',\n",
       " 'en_climate_daily_QC_702S006_2015_P1D.csv',\n",
       " 'BornesHorsRue.csv',\n",
       " 'BornesSurRue.csv',\n",
       " 'ReglementationPeriode.csv',\n",
       " 'Places.csv',\n",
       " 'boroughs.txt.npy',\n",
       " 'en_climate_daily_QC_702S006_2019_P1D.csv',\n",
       " 'Reglementations.csv',\n",
       " 'remorquages2005-2015.csv',\n",
       " 'en_climate_daily_QC_702S006_2018_P1D.csv',\n",
       " 'EmplacementReglementation.csv']"
      ]
     },
     "metadata": {},
     "execution_count": 4
    }
   ],
   "source": [
    "os.listdir(data_raw_dir)"
   ]
  },
  {
   "cell_type": "code",
   "execution_count": 5,
   "id": "successful-simon",
   "metadata": {},
   "outputs": [
    {
     "output_type": "execute_result",
     "data": {
      "text/plain": [
       "          DATE_ORIGINE  LONGITUDE_ORIGINE  LATITUDE_ORIGINE  \\\n",
       "0  2015-12-31T00:23:00         -73.587203         45.524981   \n",
       "1  2015-12-31T00:24:00         -73.622256         45.585753   \n",
       "2  2015-12-31T00:25:00         -73.600692         45.535027   \n",
       "3  2015-12-31T00:25:00         -73.620824         45.516675   \n",
       "4  2015-12-31T00:27:00         -73.580197         45.494309   \n",
       "\n",
       "                       RUE_ORIGINE  SECTEUR_ORIGINE  \\\n",
       "0                      rue Drolet               NaN   \n",
       "1  boulevard des Grandes-Prairies               NaN   \n",
       "2                rue Saint-Hubert               NaN   \n",
       "3                 avenue Ducharme               NaN   \n",
       "4               rue Saint-Mathieu               NaN   \n",
       "\n",
       "        ARRONDISSEMENT_ORIGINE     DATE_DESTINATION  LONGITUDE_DESTINATION  \\\n",
       "0           Plateau-Mont-Royal  2015-12-31T00:25:00             -73.586791   \n",
       "1                Saint-Léonard  2015-12-31T00:30:00             -73.621005   \n",
       "2  Rosemont - La Petite-Patrie  2015-12-31T00:32:00             -73.600881   \n",
       "3                    Outremont  2015-12-31T00:28:00             -73.621995   \n",
       "4                  Ville-Marie  2015-12-31T00:39:00             -73.579972   \n",
       "\n",
       "   LATITUDE_DESTINATION                  RUE_DESTINATION  SECTEUR_DESTINATION  \\\n",
       "0             45.525131                rue de Grand-Pré                   NaN   \n",
       "1             45.586975  boulevard des Grandes-Prairies                   NaN   \n",
       "2             45.535163                rue Saint-Hubert                   NaN   \n",
       "3             45.518764                 avenue Rockland                   NaN   \n",
       "4             45.493133      rue Sainte-Catherine Ouest                   NaN   \n",
       "\n",
       "    ARRONDISSEMENT_DESTINATION      MOTIF_REMORQUAGE  \n",
       "0           Plateau-Mont-Royal  Constat d'infraction  \n",
       "1                Saint-Léonard  Constat d'infraction  \n",
       "2  Rosemont - La Petite-Patrie  Constat d'infraction  \n",
       "3                    Outremont  Constat d'infraction  \n",
       "4                  Ville-Marie  Constat d'infraction  "
      ],
      "text/html": "<div>\n<style scoped>\n    .dataframe tbody tr th:only-of-type {\n        vertical-align: middle;\n    }\n\n    .dataframe tbody tr th {\n        vertical-align: top;\n    }\n\n    .dataframe thead th {\n        text-align: right;\n    }\n</style>\n<table border=\"1\" class=\"dataframe\">\n  <thead>\n    <tr style=\"text-align: right;\">\n      <th></th>\n      <th>DATE_ORIGINE</th>\n      <th>LONGITUDE_ORIGINE</th>\n      <th>LATITUDE_ORIGINE</th>\n      <th>RUE_ORIGINE</th>\n      <th>SECTEUR_ORIGINE</th>\n      <th>ARRONDISSEMENT_ORIGINE</th>\n      <th>DATE_DESTINATION</th>\n      <th>LONGITUDE_DESTINATION</th>\n      <th>LATITUDE_DESTINATION</th>\n      <th>RUE_DESTINATION</th>\n      <th>SECTEUR_DESTINATION</th>\n      <th>ARRONDISSEMENT_DESTINATION</th>\n      <th>MOTIF_REMORQUAGE</th>\n    </tr>\n  </thead>\n  <tbody>\n    <tr>\n      <th>0</th>\n      <td>2015-12-31T00:23:00</td>\n      <td>-73.587203</td>\n      <td>45.524981</td>\n      <td>rue Drolet</td>\n      <td>NaN</td>\n      <td>Plateau-Mont-Royal</td>\n      <td>2015-12-31T00:25:00</td>\n      <td>-73.586791</td>\n      <td>45.525131</td>\n      <td>rue de Grand-Pré</td>\n      <td>NaN</td>\n      <td>Plateau-Mont-Royal</td>\n      <td>Constat d'infraction</td>\n    </tr>\n    <tr>\n      <th>1</th>\n      <td>2015-12-31T00:24:00</td>\n      <td>-73.622256</td>\n      <td>45.585753</td>\n      <td>boulevard des Grandes-Prairies</td>\n      <td>NaN</td>\n      <td>Saint-Léonard</td>\n      <td>2015-12-31T00:30:00</td>\n      <td>-73.621005</td>\n      <td>45.586975</td>\n      <td>boulevard des Grandes-Prairies</td>\n      <td>NaN</td>\n      <td>Saint-Léonard</td>\n      <td>Constat d'infraction</td>\n    </tr>\n    <tr>\n      <th>2</th>\n      <td>2015-12-31T00:25:00</td>\n      <td>-73.600692</td>\n      <td>45.535027</td>\n      <td>rue Saint-Hubert</td>\n      <td>NaN</td>\n      <td>Rosemont - La Petite-Patrie</td>\n      <td>2015-12-31T00:32:00</td>\n      <td>-73.600881</td>\n      <td>45.535163</td>\n      <td>rue Saint-Hubert</td>\n      <td>NaN</td>\n      <td>Rosemont - La Petite-Patrie</td>\n      <td>Constat d'infraction</td>\n    </tr>\n    <tr>\n      <th>3</th>\n      <td>2015-12-31T00:25:00</td>\n      <td>-73.620824</td>\n      <td>45.516675</td>\n      <td>avenue Ducharme</td>\n      <td>NaN</td>\n      <td>Outremont</td>\n      <td>2015-12-31T00:28:00</td>\n      <td>-73.621995</td>\n      <td>45.518764</td>\n      <td>avenue Rockland</td>\n      <td>NaN</td>\n      <td>Outremont</td>\n      <td>Constat d'infraction</td>\n    </tr>\n    <tr>\n      <th>4</th>\n      <td>2015-12-31T00:27:00</td>\n      <td>-73.580197</td>\n      <td>45.494309</td>\n      <td>rue Saint-Mathieu</td>\n      <td>NaN</td>\n      <td>Ville-Marie</td>\n      <td>2015-12-31T00:39:00</td>\n      <td>-73.579972</td>\n      <td>45.493133</td>\n      <td>rue Sainte-Catherine Ouest</td>\n      <td>NaN</td>\n      <td>Ville-Marie</td>\n      <td>Constat d'infraction</td>\n    </tr>\n  </tbody>\n</table>\n</div>"
     },
     "metadata": {},
     "execution_count": 5
    }
   ],
   "source": [
    "df_remor = pd.read_csv(os.path.join(data_raw_dir, 'remorquages.csv'), header=0)\n",
    "df_remor.head()"
   ]
  },
  {
   "cell_type": "code",
   "execution_count": 6,
   "id": "municipal-president",
   "metadata": {},
   "outputs": [
    {
     "data": {
      "text/plain": [
       "[dtype('O'),\n",
       " dtype('float64'),\n",
       " dtype('float64'),\n",
       " dtype('O'),\n",
       " dtype('float64'),\n",
       " dtype('O'),\n",
       " dtype('O'),\n",
       " dtype('float64'),\n",
       " dtype('float64'),\n",
       " dtype('O'),\n",
       " dtype('float64'),\n",
       " dtype('O'),\n",
       " dtype('O')]"
      ]
     },
     "execution_count": 6,
     "metadata": {},
     "output_type": "execute_result"
    }
   ],
   "source": [
    "list(df_remor.dtypes)"
   ]
  },
  {
   "cell_type": "code",
   "execution_count": 7,
   "id": "technical-brunswick",
   "metadata": {},
   "outputs": [
    {
     "data": {
      "text/plain": [
       "DATE_ORIGINE                  False\n",
       "LONGITUDE_ORIGINE              True\n",
       "LATITUDE_ORIGINE               True\n",
       "RUE_ORIGINE                   False\n",
       "SECTEUR_ORIGINE                True\n",
       "ARRONDISSEMENT_ORIGINE         True\n",
       "DATE_DESTINATION               True\n",
       "LONGITUDE_DESTINATION          True\n",
       "LATITUDE_DESTINATION           True\n",
       "RUE_DESTINATION               False\n",
       "SECTEUR_DESTINATION            True\n",
       "ARRONDISSEMENT_DESTINATION     True\n",
       "MOTIF_REMORQUAGE               True\n",
       "dtype: bool"
      ]
     },
     "execution_count": 7,
     "metadata": {},
     "output_type": "execute_result"
    }
   ],
   "source": [
    "df_remor.isnull().any()"
   ]
  },
  {
   "cell_type": "code",
   "execution_count": 8,
   "id": "false-receipt",
   "metadata": {},
   "outputs": [
    {
     "data": {
      "text/plain": [
       "Constat d'infraction        240333\n",
       "Remis au propriétaire         4576\n",
       "Autre                         2485\n",
       "Déplacement non autorisé      1746\n",
       "Événement policier             774\n",
       "Name: MOTIF_REMORQUAGE, dtype: int64"
      ]
     },
     "execution_count": 8,
     "metadata": {},
     "output_type": "execute_result"
    }
   ],
   "source": [
    "df_remor['MOTIF_REMORQUAGE'].value_counts()"
   ]
  },
  {
   "source": [
    "## Unique boroughs"
   ],
   "cell_type": "markdown",
   "metadata": {}
  },
  {
   "cell_type": "code",
   "execution_count": 27,
   "metadata": {},
   "outputs": [
    {
     "output_type": "stream",
     "name": "stdout",
     "text": [
      "<class 'pandas.core.series.Series'>\n741\n<class 'pandas.core.series.Series'>\n0\n['Plateau-Mont-Royal' 'Saint-Léonard' 'Rosemont - La Petite-Patrie'\n 'Outremont' 'Ville-Marie' 'Mercier - Hochelaga-Maisonneuve' 'LaSalle'\n 'Villeray - Saint-Michel - Parc-Extension'\n 'Rivière-des-Prairies - Pointe-aux-Trembles'\n 'Côte-des-Neiges - Notre-Dame-de-Grâce' 'Lachine' 'Saint-Laurent'\n 'Ahuntsic - Cartierville' 'Sud-Ouest' 'Anjou' 'Montréal-Nord' 'Verdun'\n 'Pierrefonds - Roxboro']\n"
     ]
    }
   ],
   "source": [
    "boroughs = df_remor['ARRONDISSEMENT_ORIGINE']\n",
    "print(type(boroughs))\n",
    "print(boroughs.isnull().sum())\n",
    "remove_nan = boroughs.dropna()\n",
    "print(type(remove_nan))\n",
    "print(remove_nan.isnull().sum())\n",
    "print(remove_nan.unique())\n",
    "# remove_nan.unique().save(os.path.join(data_raw_dir, 'boroughs.txt'))\n",
    "\n",
    "np.save(os.path.join(data_raw_dir, 'boroughs.txt'), remove_nan.unique())"
   ]
  },
  {
   "cell_type": "markdown",
   "id": "logical-spring",
   "metadata": {},
   "source": [
    "## Probability of a spot"
   ]
  },
  {
   "cell_type": "code",
   "execution_count": 9,
   "id": "valued-attendance",
   "metadata": {},
   "outputs": [],
   "source": [
    "df_prob = df_remor[['LONGITUDE_ORIGINE', 'LATITUDE_ORIGINE', 'LONGITUDE_DESTINATION', 'LATITUDE_DESTINATION']]"
   ]
  },
  {
   "cell_type": "code",
   "execution_count": 10,
   "id": "settled-equality",
   "metadata": {},
   "outputs": [],
   "source": [
    "df_prob = df_prob.round(5)"
   ]
  },
  {
   "cell_type": "code",
   "execution_count": 11,
   "id": "optical-mining",
   "metadata": {},
   "outputs": [
    {
     "data": {
      "text/html": [
       "<div>\n",
       "<style scoped>\n",
       "    .dataframe tbody tr th:only-of-type {\n",
       "        vertical-align: middle;\n",
       "    }\n",
       "\n",
       "    .dataframe tbody tr th {\n",
       "        vertical-align: top;\n",
       "    }\n",
       "\n",
       "    .dataframe thead th {\n",
       "        text-align: right;\n",
       "    }\n",
       "</style>\n",
       "<table border=\"1\" class=\"dataframe\">\n",
       "  <thead>\n",
       "    <tr style=\"text-align: right;\">\n",
       "      <th></th>\n",
       "      <th>LONGITUDE_ORIGINE</th>\n",
       "      <th>LATITUDE_ORIGINE</th>\n",
       "      <th>LONGITUDE_DESTINATION</th>\n",
       "      <th>LATITUDE_DESTINATION</th>\n",
       "    </tr>\n",
       "  </thead>\n",
       "  <tbody>\n",
       "    <tr>\n",
       "      <th>0</th>\n",
       "      <td>-73.58720</td>\n",
       "      <td>45.52498</td>\n",
       "      <td>-73.58679</td>\n",
       "      <td>45.52513</td>\n",
       "    </tr>\n",
       "    <tr>\n",
       "      <th>1</th>\n",
       "      <td>-73.62226</td>\n",
       "      <td>45.58575</td>\n",
       "      <td>-73.62100</td>\n",
       "      <td>45.58697</td>\n",
       "    </tr>\n",
       "    <tr>\n",
       "      <th>2</th>\n",
       "      <td>-73.60069</td>\n",
       "      <td>45.53503</td>\n",
       "      <td>-73.60088</td>\n",
       "      <td>45.53516</td>\n",
       "    </tr>\n",
       "    <tr>\n",
       "      <th>3</th>\n",
       "      <td>-73.62082</td>\n",
       "      <td>45.51668</td>\n",
       "      <td>-73.62200</td>\n",
       "      <td>45.51876</td>\n",
       "    </tr>\n",
       "    <tr>\n",
       "      <th>4</th>\n",
       "      <td>-73.58020</td>\n",
       "      <td>45.49431</td>\n",
       "      <td>-73.57997</td>\n",
       "      <td>45.49313</td>\n",
       "    </tr>\n",
       "    <tr>\n",
       "      <th>...</th>\n",
       "      <td>...</td>\n",
       "      <td>...</td>\n",
       "      <td>...</td>\n",
       "      <td>...</td>\n",
       "    </tr>\n",
       "    <tr>\n",
       "      <th>250072</th>\n",
       "      <td>-73.70518</td>\n",
       "      <td>45.53120</td>\n",
       "      <td>-73.70428</td>\n",
       "      <td>45.53077</td>\n",
       "    </tr>\n",
       "    <tr>\n",
       "      <th>250073</th>\n",
       "      <td>-73.65453</td>\n",
       "      <td>45.55993</td>\n",
       "      <td>-73.65046</td>\n",
       "      <td>45.56053</td>\n",
       "    </tr>\n",
       "    <tr>\n",
       "      <th>250074</th>\n",
       "      <td>-73.57954</td>\n",
       "      <td>45.49135</td>\n",
       "      <td>-73.57942</td>\n",
       "      <td>45.49364</td>\n",
       "    </tr>\n",
       "    <tr>\n",
       "      <th>250075</th>\n",
       "      <td>-73.59578</td>\n",
       "      <td>45.46153</td>\n",
       "      <td>-73.59017</td>\n",
       "      <td>45.46118</td>\n",
       "    </tr>\n",
       "    <tr>\n",
       "      <th>250076</th>\n",
       "      <td>-73.57946</td>\n",
       "      <td>45.49140</td>\n",
       "      <td>-73.57866</td>\n",
       "      <td>45.49428</td>\n",
       "    </tr>\n",
       "  </tbody>\n",
       "</table>\n",
       "<p>250077 rows × 4 columns</p>\n",
       "</div>"
      ],
      "text/plain": [
       "        LONGITUDE_ORIGINE  LATITUDE_ORIGINE  LONGITUDE_DESTINATION  \\\n",
       "0               -73.58720          45.52498              -73.58679   \n",
       "1               -73.62226          45.58575              -73.62100   \n",
       "2               -73.60069          45.53503              -73.60088   \n",
       "3               -73.62082          45.51668              -73.62200   \n",
       "4               -73.58020          45.49431              -73.57997   \n",
       "...                   ...               ...                    ...   \n",
       "250072          -73.70518          45.53120              -73.70428   \n",
       "250073          -73.65453          45.55993              -73.65046   \n",
       "250074          -73.57954          45.49135              -73.57942   \n",
       "250075          -73.59578          45.46153              -73.59017   \n",
       "250076          -73.57946          45.49140              -73.57866   \n",
       "\n",
       "        LATITUDE_DESTINATION  \n",
       "0                   45.52513  \n",
       "1                   45.58697  \n",
       "2                   45.53516  \n",
       "3                   45.51876  \n",
       "4                   45.49313  \n",
       "...                      ...  \n",
       "250072              45.53077  \n",
       "250073              45.56053  \n",
       "250074              45.49364  \n",
       "250075              45.46118  \n",
       "250076              45.49428  \n",
       "\n",
       "[250077 rows x 4 columns]"
      ]
     },
     "execution_count": 11,
     "metadata": {},
     "output_type": "execute_result"
    }
   ],
   "source": [
    "df_prob"
   ]
  },
  {
   "cell_type": "code",
   "execution_count": 12,
   "id": "devoted-fitting",
   "metadata": {},
   "outputs": [],
   "source": [
    "df_prob['LONGITUDE_ORIGINE'] = df_prob['LONGITUDE_ORIGINE'].astype(str)\n",
    "df_prob['LATITUDE_ORIGINE'] = df_prob['LATITUDE_ORIGINE'].astype(str)\n",
    "df_prob['LONGITUDE_DESTINATION'] = df_prob['LONGITUDE_DESTINATION'].astype(str)\n",
    "df_prob['LATITUDE_DESTINATION'] = df_prob['LATITUDE_DESTINATION'].astype(str)"
   ]
  },
  {
   "cell_type": "code",
   "execution_count": 13,
   "id": "motivated-singles",
   "metadata": {},
   "outputs": [],
   "source": [
    "df_prob['ORIGIN'] =  df_prob['LATITUDE_ORIGINE'] +','+ df_prob['LONGITUDE_ORIGINE']\n",
    "df_prob['DEST'] = df_prob['LATITUDE_DESTINATION'] +','+ df_prob['LONGITUDE_DESTINATION']\n",
    "df_prob['COUNT'] = 1\n",
    "# df_prob = df_prob[['DATE_ORIGINE', 'ORIGIN', 'DEST', 'COUNT']]"
   ]
  },
  {
   "cell_type": "code",
   "execution_count": 14,
   "id": "inappropriate-dining",
   "metadata": {},
   "outputs": [],
   "source": [
    "# df_prob['ORIGIN'].count()\n",
    "# print()"
   ]
  },
  {
   "cell_type": "code",
   "execution_count": 15,
   "id": "organized-charm",
   "metadata": {},
   "outputs": [
    {
     "data": {
      "text/html": [
       "<div>\n",
       "<style scoped>\n",
       "    .dataframe tbody tr th:only-of-type {\n",
       "        vertical-align: middle;\n",
       "    }\n",
       "\n",
       "    .dataframe tbody tr th {\n",
       "        vertical-align: top;\n",
       "    }\n",
       "\n",
       "    .dataframe thead th {\n",
       "        text-align: right;\n",
       "    }\n",
       "</style>\n",
       "<table border=\"1\" class=\"dataframe\">\n",
       "  <thead>\n",
       "    <tr style=\"text-align: right;\">\n",
       "      <th></th>\n",
       "      <th>ORIGIN</th>\n",
       "      <th>COUNT</th>\n",
       "    </tr>\n",
       "  </thead>\n",
       "  <tbody>\n",
       "    <tr>\n",
       "      <th>0</th>\n",
       "      <td>45.52498,-73.5872</td>\n",
       "      <td>1</td>\n",
       "    </tr>\n",
       "    <tr>\n",
       "      <th>1</th>\n",
       "      <td>45.58575,-73.62226</td>\n",
       "      <td>1</td>\n",
       "    </tr>\n",
       "    <tr>\n",
       "      <th>2</th>\n",
       "      <td>45.53503,-73.60069</td>\n",
       "      <td>1</td>\n",
       "    </tr>\n",
       "    <tr>\n",
       "      <th>3</th>\n",
       "      <td>45.51668,-73.62082</td>\n",
       "      <td>1</td>\n",
       "    </tr>\n",
       "    <tr>\n",
       "      <th>4</th>\n",
       "      <td>45.49431,-73.5802</td>\n",
       "      <td>1</td>\n",
       "    </tr>\n",
       "    <tr>\n",
       "      <th>...</th>\n",
       "      <td>...</td>\n",
       "      <td>...</td>\n",
       "    </tr>\n",
       "    <tr>\n",
       "      <th>250072</th>\n",
       "      <td>45.5312,-73.70518</td>\n",
       "      <td>1</td>\n",
       "    </tr>\n",
       "    <tr>\n",
       "      <th>250073</th>\n",
       "      <td>45.55993,-73.65453</td>\n",
       "      <td>1</td>\n",
       "    </tr>\n",
       "    <tr>\n",
       "      <th>250074</th>\n",
       "      <td>45.49135,-73.57954</td>\n",
       "      <td>1</td>\n",
       "    </tr>\n",
       "    <tr>\n",
       "      <th>250075</th>\n",
       "      <td>45.46153,-73.59578</td>\n",
       "      <td>1</td>\n",
       "    </tr>\n",
       "    <tr>\n",
       "      <th>250076</th>\n",
       "      <td>45.4914,-73.57946</td>\n",
       "      <td>1</td>\n",
       "    </tr>\n",
       "  </tbody>\n",
       "</table>\n",
       "<p>250077 rows × 2 columns</p>\n",
       "</div>"
      ],
      "text/plain": [
       "                    ORIGIN  COUNT\n",
       "0        45.52498,-73.5872      1\n",
       "1       45.58575,-73.62226      1\n",
       "2       45.53503,-73.60069      1\n",
       "3       45.51668,-73.62082      1\n",
       "4        45.49431,-73.5802      1\n",
       "...                    ...    ...\n",
       "250072   45.5312,-73.70518      1\n",
       "250073  45.55993,-73.65453      1\n",
       "250074  45.49135,-73.57954      1\n",
       "250075  45.46153,-73.59578      1\n",
       "250076   45.4914,-73.57946      1\n",
       "\n",
       "[250077 rows x 2 columns]"
      ]
     },
     "execution_count": 15,
     "metadata": {},
     "output_type": "execute_result"
    }
   ],
   "source": [
    "df_prob_count = df_prob[['ORIGIN', 'COUNT']]\n",
    "df_prob_count.groupby(['ORIGIN']).count().reset_index()\n",
    "df_prob_count"
   ]
  },
  {
   "cell_type": "code",
   "execution_count": 16,
   "id": "measured-anderson",
   "metadata": {},
   "outputs": [],
   "source": [
    "g = df_prob_count.groupby(['ORIGIN']).sum().reset_index()"
   ]
  },
  {
   "cell_type": "code",
   "execution_count": 17,
   "id": "configured-burton",
   "metadata": {},
   "outputs": [
    {
     "data": {
      "text/html": [
       "<div>\n",
       "<style scoped>\n",
       "    .dataframe tbody tr th:only-of-type {\n",
       "        vertical-align: middle;\n",
       "    }\n",
       "\n",
       "    .dataframe tbody tr th {\n",
       "        vertical-align: top;\n",
       "    }\n",
       "\n",
       "    .dataframe thead th {\n",
       "        text-align: right;\n",
       "    }\n",
       "</style>\n",
       "<table border=\"1\" class=\"dataframe\">\n",
       "  <thead>\n",
       "    <tr style=\"text-align: right;\">\n",
       "      <th></th>\n",
       "      <th>ORIGIN</th>\n",
       "      <th>COUNT</th>\n",
       "    </tr>\n",
       "  </thead>\n",
       "  <tbody>\n",
       "    <tr>\n",
       "      <th>0</th>\n",
       "      <td>45.41524,-73.6236</td>\n",
       "      <td>1</td>\n",
       "    </tr>\n",
       "    <tr>\n",
       "      <th>1</th>\n",
       "      <td>45.41528,-73.62384</td>\n",
       "      <td>1</td>\n",
       "    </tr>\n",
       "    <tr>\n",
       "      <th>2</th>\n",
       "      <td>45.41529,-73.62144</td>\n",
       "      <td>1</td>\n",
       "    </tr>\n",
       "    <tr>\n",
       "      <th>3</th>\n",
       "      <td>45.41529,-73.62369</td>\n",
       "      <td>1</td>\n",
       "    </tr>\n",
       "    <tr>\n",
       "      <th>4</th>\n",
       "      <td>45.41531,-73.62383</td>\n",
       "      <td>1</td>\n",
       "    </tr>\n",
       "    <tr>\n",
       "      <th>...</th>\n",
       "      <td>...</td>\n",
       "      <td>...</td>\n",
       "    </tr>\n",
       "    <tr>\n",
       "      <th>242725</th>\n",
       "      <td>45.70096,-73.48169</td>\n",
       "      <td>1</td>\n",
       "    </tr>\n",
       "    <tr>\n",
       "      <th>242726</th>\n",
       "      <td>45.70121,-73.48097</td>\n",
       "      <td>1</td>\n",
       "    </tr>\n",
       "    <tr>\n",
       "      <th>242727</th>\n",
       "      <td>45.70135,-73.48046</td>\n",
       "      <td>1</td>\n",
       "    </tr>\n",
       "    <tr>\n",
       "      <th>242728</th>\n",
       "      <td>45.70145,-73.48005</td>\n",
       "      <td>1</td>\n",
       "    </tr>\n",
       "    <tr>\n",
       "      <th>242729</th>\n",
       "      <td>nan,nan</td>\n",
       "      <td>741</td>\n",
       "    </tr>\n",
       "  </tbody>\n",
       "</table>\n",
       "<p>242730 rows × 2 columns</p>\n",
       "</div>"
      ],
      "text/plain": [
       "                    ORIGIN  COUNT\n",
       "0        45.41524,-73.6236      1\n",
       "1       45.41528,-73.62384      1\n",
       "2       45.41529,-73.62144      1\n",
       "3       45.41529,-73.62369      1\n",
       "4       45.41531,-73.62383      1\n",
       "...                    ...    ...\n",
       "242725  45.70096,-73.48169      1\n",
       "242726  45.70121,-73.48097      1\n",
       "242727  45.70135,-73.48046      1\n",
       "242728  45.70145,-73.48005      1\n",
       "242729             nan,nan    741\n",
       "\n",
       "[242730 rows x 2 columns]"
      ]
     },
     "execution_count": 17,
     "metadata": {},
     "output_type": "execute_result"
    }
   ],
   "source": [
    "g[['ORIGIN', 'COUNT']]"
   ]
  },
  {
   "cell_type": "code",
   "execution_count": null,
   "id": "coupled-mainstream",
   "metadata": {},
   "outputs": [],
   "source": []
  },
  {
   "cell_type": "markdown",
   "id": "identified-namibia",
   "metadata": {},
   "source": [
    "## Distance between pick up and drop off using Haversin formula\n",
    "```https://www.kite.com/python/answers/how-to-find-the-distance-between-two-lat-long-coordinates-in-python```"
   ]
  },
  {
   "cell_type": "code",
   "execution_count": 6,
   "id": "cordless-general",
   "metadata": {},
   "outputs": [
    {
     "output_type": "execute_result",
     "data": {
      "text/plain": [
       "        LONGITUDE_ORIGINE  LATITUDE_ORIGINE  LONGITUDE_DESTINATION  \\\n",
       "0              -73.587203         45.524981             -73.586791   \n",
       "1              -73.622256         45.585753             -73.621005   \n",
       "2              -73.600692         45.535027             -73.600881   \n",
       "3              -73.620824         45.516675             -73.621995   \n",
       "4              -73.580197         45.494309             -73.579972   \n",
       "...                   ...               ...                    ...   \n",
       "250072         -73.705183         45.531197             -73.704284   \n",
       "250073         -73.654533         45.559930             -73.650458   \n",
       "250074         -73.579544         45.491353             -73.579424   \n",
       "250075         -73.595783         45.461529             -73.590168   \n",
       "250076         -73.579455         45.491400             -73.578657   \n",
       "\n",
       "        LATITUDE_DESTINATION  \n",
       "0                  45.525131  \n",
       "1                  45.586975  \n",
       "2                  45.535163  \n",
       "3                  45.518764  \n",
       "4                  45.493133  \n",
       "...                      ...  \n",
       "250072             45.530772  \n",
       "250073             45.560528  \n",
       "250074             45.493636  \n",
       "250075             45.461180  \n",
       "250076             45.494284  \n",
       "\n",
       "[250077 rows x 4 columns]"
      ],
      "text/html": "<div>\n<style scoped>\n    .dataframe tbody tr th:only-of-type {\n        vertical-align: middle;\n    }\n\n    .dataframe tbody tr th {\n        vertical-align: top;\n    }\n\n    .dataframe thead th {\n        text-align: right;\n    }\n</style>\n<table border=\"1\" class=\"dataframe\">\n  <thead>\n    <tr style=\"text-align: right;\">\n      <th></th>\n      <th>LONGITUDE_ORIGINE</th>\n      <th>LATITUDE_ORIGINE</th>\n      <th>LONGITUDE_DESTINATION</th>\n      <th>LATITUDE_DESTINATION</th>\n    </tr>\n  </thead>\n  <tbody>\n    <tr>\n      <th>0</th>\n      <td>-73.587203</td>\n      <td>45.524981</td>\n      <td>-73.586791</td>\n      <td>45.525131</td>\n    </tr>\n    <tr>\n      <th>1</th>\n      <td>-73.622256</td>\n      <td>45.585753</td>\n      <td>-73.621005</td>\n      <td>45.586975</td>\n    </tr>\n    <tr>\n      <th>2</th>\n      <td>-73.600692</td>\n      <td>45.535027</td>\n      <td>-73.600881</td>\n      <td>45.535163</td>\n    </tr>\n    <tr>\n      <th>3</th>\n      <td>-73.620824</td>\n      <td>45.516675</td>\n      <td>-73.621995</td>\n      <td>45.518764</td>\n    </tr>\n    <tr>\n      <th>4</th>\n      <td>-73.580197</td>\n      <td>45.494309</td>\n      <td>-73.579972</td>\n      <td>45.493133</td>\n    </tr>\n    <tr>\n      <th>...</th>\n      <td>...</td>\n      <td>...</td>\n      <td>...</td>\n      <td>...</td>\n    </tr>\n    <tr>\n      <th>250072</th>\n      <td>-73.705183</td>\n      <td>45.531197</td>\n      <td>-73.704284</td>\n      <td>45.530772</td>\n    </tr>\n    <tr>\n      <th>250073</th>\n      <td>-73.654533</td>\n      <td>45.559930</td>\n      <td>-73.650458</td>\n      <td>45.560528</td>\n    </tr>\n    <tr>\n      <th>250074</th>\n      <td>-73.579544</td>\n      <td>45.491353</td>\n      <td>-73.579424</td>\n      <td>45.493636</td>\n    </tr>\n    <tr>\n      <th>250075</th>\n      <td>-73.595783</td>\n      <td>45.461529</td>\n      <td>-73.590168</td>\n      <td>45.461180</td>\n    </tr>\n    <tr>\n      <th>250076</th>\n      <td>-73.579455</td>\n      <td>45.491400</td>\n      <td>-73.578657</td>\n      <td>45.494284</td>\n    </tr>\n  </tbody>\n</table>\n<p>250077 rows × 4 columns</p>\n</div>"
     },
     "metadata": {},
     "execution_count": 6
    }
   ],
   "source": [
    "df_avg_drop_dist = df_remor[['LONGITUDE_ORIGINE', 'LATITUDE_ORIGINE', 'LONGITUDE_DESTINATION', 'LATITUDE_DESTINATION']]\n",
    "df_avg_drop_dist"
   ]
  },
  {
   "cell_type": "code",
   "execution_count": null,
   "id": "exterior-freeware",
   "metadata": {},
   "outputs": [],
   "source": [
    "R = 6373.0\n",
    "\n",
    "lat1 = np.radians(df_avg_drop_dist['LATITUDE_ORIGINE'])\n",
    "lon1 = np.radians(df_avg_drop_dist['LONGITUDE_ORIGINE'])\n",
    "lat2 = np.radians(df_avg_drop_dist['LATITUDE_DESTINATION'])\n",
    "lon2 = np.radians(df_avg_drop_dist['LONGITUDE_DESTINATION'])\n",
    "\n",
    "dlon = lon2 - lon1\n",
    "dlat = lat2 - lat1\n",
    "# print(dlon, dlat)\n",
    "a = np.sin(dlat / 2)**2 + np.cos(lat1) * np.cos(lat2) * np.sin(dlon / 2)**2\n",
    "# print(type(a))\n",
    "c = 2 * np.arctan2(np.sqrt(a), np.sqrt(1 - a))\n",
    "# print(c)\n",
    "distance = R * c\n",
    "# print(type(distance))\n",
    "df_avg_drop_dist.loc[:, 'avg_dist'] = distance"
   ]
  },
  {
   "cell_type": "code",
   "execution_count": null,
   "id": "regular-measurement",
   "metadata": {},
   "outputs": [],
   "source": [
    "df_avg_drop_dist"
   ]
  },
  {
   "cell_type": "code",
   "execution_count": null,
   "id": "general-roman",
   "metadata": {},
   "outputs": [],
   "source": [
    "df_avg_drop_dist['avg_dist'].mean()"
   ]
  }
 ],
 "metadata": {
  "kernelspec": {
   "name": "python3",
   "display_name": "Python 3.6.12 64-bit ('bigdata': conda)",
   "metadata": {
    "interpreter": {
     "hash": "393438f6c0bca4a2b0b9b28a96f5952f2521bd7399947aa24a0a5b669f83e1d6"
    }
   }
  },
  "language_info": {
   "codemirror_mode": {
    "name": "ipython",
    "version": 3
   },
   "file_extension": ".py",
   "mimetype": "text/x-python",
   "name": "python",
   "nbconvert_exporter": "python",
   "pygments_lexer": "ipython3",
   "version": "3.6.12-final"
  }
 },
 "nbformat": 4,
 "nbformat_minor": 5
}